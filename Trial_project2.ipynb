{
  "nbformat": 4,
  "nbformat_minor": 0,
  "metadata": {
    "colab": {
      "provenance": [],
      "include_colab_link": true
    },
    "kernelspec": {
      "name": "python3",
      "display_name": "Python 3"
    },
    "language_info": {
      "name": "python"
    }
  },
  "cells": [
    {
      "cell_type": "markdown",
      "metadata": {
        "id": "view-in-github",
        "colab_type": "text"
      },
      "source": [
        "<a href=\"https://colab.research.google.com/github/sir-sauc3/Project2/blob/main/Trial_project2.ipynb\" target=\"_parent\"><img src=\"https://colab.research.google.com/assets/colab-badge.svg\" alt=\"Open In Colab\"/></a>"
      ]
    },
    {
      "cell_type": "code",
      "execution_count": 11,
      "metadata": {
        "id": "iTRxTv9uEn-6"
      },
      "outputs": [],
      "source": [
        "import numpy as np\n",
        "from dataclasses import dataclass\n",
        "from pprint import pprint\n",
        "import random\n",
        "from scipy.signal import correlate2d\n",
        "\n",
        "import time\n",
        "\n",
        "import matplotlib\n",
        "import matplotlib.pyplot as plt\n",
        "from matplotlib import animation\n",
        "import matplotlib.colors as colors"
      ]
    },
    {
      "cell_type": "code",
      "source": [
        "DEFAULT_IMSHOW_OPTIONS = dict(\n",
        "    cmap='Blues',\n",
        "    interpolation='none',\n",
        "    origin='upper',\n",
        ")\n",
        "\n",
        "\n",
        "def plot_2D_array(array, axes=None, title='', **options):\n",
        "    \"\"\" Plot the 2D array as an image on the given axes  1's will be dark blue, 0's will be light blue. \"\"\"\n",
        "    axes = axes or plt.gca()  # If not axes are provided, draw on current axes\n",
        "    axes.set_title(title)\n",
        "    axes.set_xticks([], [])  # remove axes tick marks\n",
        "    axes.set_yticks([], [])\n",
        "    options = {**DEFAULT_IMSHOW_OPTIONS, **options}\n",
        "    axes.imshow(array, **options)"
      ],
      "metadata": {
        "id": "l9uk8kBUSgua"
      },
      "execution_count": 12,
      "outputs": []
    },
    {
      "cell_type": "code",
      "source": [
        "class Animation2D:\n",
        "    \"\"\"\n",
        "      Animates any 2D model with a step() method and a draw() method, using matplotlib\n",
        "      model.step() should take no parameters - just step the model forward one step.\n",
        "      model.draw() should take 2 parameters, the matpltolib axes to draw on and an integer step number\n",
        "\n",
        "      See https://www.allendowney.com/blog/2019/07/25/matplotlib-animation-in-jupyter/\n",
        "          for a discussion of the pros and cons of various animation techniques in jupyter notebooks\n",
        "    \"\"\"\n",
        "\n",
        "    def __init__(self, model, frames=50, steps_per_frame=1, figsize=(9, 9)): #frames=50, steps_per_frame=1, figsize=(8, 8)\n",
        "        \"\"\"\n",
        "        :param model: the simulation object to animate, with step() and draw(axes, step) methods\n",
        "        :param frames: number of animation frames to generate\n",
        "        \"\"\"\n",
        "        self.model = model\n",
        "        self.frames = frames\n",
        "        self.steps_per_frame = steps_per_frame\n",
        "        self.fig, self.ax = plt.subplots(figsize=figsize)\n",
        "\n",
        "    def animation_step(self, step):\n",
        "        \"\"\" Step the model forward and draw the plot \"\"\"\n",
        "        if step > 0:\n",
        "            for _ in range(self.steps_per_frame):\n",
        "                self.model.step()\n",
        "        self.model.draw(self.ax, step=step * self.steps_per_frame)\n",
        "\n",
        "    def show(self):\n",
        "        \"\"\" return the matplotlib animation object, ready for display \"\"\"\n",
        "        anim = animation.FuncAnimation(self.fig, self.animation_step, frames=self.frames)\n",
        "        plt.close()  # this ensures the last frame is not shown as a separate plot\n",
        "        return anim\n",
        "\n",
        "    def animate(self, interval=1.5):\n",
        "        \"\"\" Animate the model simulation directly in the notebook display block \"\"\"\n",
        "        from IPython.display import clear_output\n",
        "        try:\n",
        "            for i in range(self.frames):\n",
        "                clear_output(wait=True)  # clear the IPython display\n",
        "                self.ax.clear()  # clear old image from the axes (fixes a performance issue)\n",
        "                plt.figure(self.fig)  # add the figure back to pyplot ** sigh **\n",
        "                self.animation_step(i)\n",
        "                plt.show()  # show the current animation frame (pyplot then closes and throws away figure ** sigh **)\n",
        "                if interval:\n",
        "                    time.sleep(interval)\n",
        "        except KeyboardInterrupt:\n",
        "            pass"
      ],
      "metadata": {
        "id": "-myg3tDjSch0"
      },
      "execution_count": 13,
      "outputs": []
    },
    {
      "cell_type": "code",
      "source": [
        "class Deer:\n",
        "\n",
        "  def __init__(self, location, weight=25, **grid_size):\n",
        "    self.location = tuple(location)\n",
        "    self.weight = weight\n",
        "    self.gridsize= grid_size['grid_size']\n",
        "\n",
        "  def cardinal_neighbors(self):\n",
        "    x = self.location[0]\n",
        "    y = self.location[1]\n",
        "    return [((x-1)%self.gridsize, y), (x, (y+1)%self.gridsize), ((x+1)%self.gridsize, y), (x, (y-1)%self.gridsize)]"
      ],
      "metadata": {
        "id": "dhtd6vmxtzW7"
      },
      "execution_count": 14,
      "outputs": []
    },
    {
      "cell_type": "code",
      "source": [
        "class Grazing_simulation:\n",
        "\n",
        "\n",
        "  cmap = [(1, 0.5, 0), (0, 1, 0)]\n",
        "  grazing_colour_map = matplotlib.colors.ListedColormap(cmap)\n",
        "\n",
        "\n",
        "  def __init__(self, size, coverage, num_deer, regrowth_rate=0.08, max_weight=50, metabolism=6):\n",
        "      self.size = size\n",
        "      self.coverage = coverage #A POSSIBLE PARAMETER TO CHANGE FOR SUSTAINABILITY EXPERIMENT\n",
        "      self.num_deer = num_deer #A POSSIBLE PARAMETER TO CHANGE FOR SUSTAINABILITY EXPERIMENT\n",
        "      self.regrowth_rate = regrowth_rate\n",
        "      self.max_weight = max_weight #A POSSIBLE PARAMETER TO CHANGE FOR SUSTAINABILITY EXPERIMENT\n",
        "      self.metabolism = metabolism #A POSSIBLE PARAMETER TO CHANGE FOR SUSTAINABILITY EXPERIMENT\n",
        "\n",
        "      self.grassland = np.random.choice([1,0], (size,size), p=(coverage, 1-coverage))\n",
        "\n",
        "      self.introduce_deer()\n",
        "\n",
        "\n",
        "  def introduce_deer(self):\n",
        "      locs = [(x,y) for x in range(self.size) for y in range(self.size)]\n",
        "      np.random.shuffle(locs)\n",
        "\n",
        "      assert(self.num_deer <= len(locs))\n",
        "      self.deers = [Deer(locs[i], grid_size = self.size) for i in range(self.num_deer)]\n",
        "\n",
        "\n",
        "  def move_deer(self, deer):      \n",
        "      cardinal_neighbors = deer.cardinal_neighbors()\n",
        "      available_to_move = [(x,y) for x,y in cardinal_neighbors if (x,y) not in self.occupied_locations]\n",
        "      if (len(available_to_move) > 0):\n",
        "        self.occupied_locations.remove(deer.location)\n",
        "        deer.location = random.choice(available_to_move)\n",
        "        self.occupied_locations.append(deer.location)\n",
        "      else:\n",
        "        return\n",
        "\n",
        "      x, y = deer.location\n",
        "      grassland_value = self.grassland[y][x]\n",
        "      if grassland_value == 1:\n",
        "        deer.weight += 5 #A POSSIBLE PARAMETER TO CHANGE FOR SUSTAINABILITY EXPERIMENT\n",
        "        self.grassland[y][x] = 0\n",
        "      else:\n",
        "        deer.weight -= 5 #A POSSIBLE PARAMETER TO CHANGE FOR SUSTAINABILITY EXPERIMENT\n",
        "        if deer.weight <= 0:\n",
        "          self.deers.remove(deer)\n",
        "\n",
        "\n",
        "\n",
        "  def step(self):\n",
        "    self.occupied_locations = [deer.location for deer in self.deers]\n",
        "    other_locs = {}\n",
        "\n",
        "    regrowth_mask = np.random.choice([0,1], (self.size,self.size), p=(1-self.regrowth_rate, self.regrowth_rate))\n",
        "    self.grassland = np.clip(self.grassland + regrowth_mask, 0, 1)\n",
        "\n",
        "    for deer in self.deers:\n",
        "      self.move_deer(deer)\n",
        "      xs, ys = deer.location\n",
        "      other_locs.update({(xs,ys):deer.weight})\n",
        "      points = plt.plot(xs, ys, '.', color='brown', markersize=10)\n",
        "    print(f'weights at each time step: {other_locs}')\n",
        "    print(\"---------------------------------------------------------------------------------------\")\n",
        "    # plt.show()\n",
        "\n",
        "\n",
        "  def draw(self, axes=None, step=''):\n",
        "      \"\"\"Draws the CA cells using the forest colour map so values are coloured intuitively.\"\"\"\n",
        "      axes = axes or plt.axes\n",
        "      title = f'Time:{step}\\nNumber of deer present: {len(self.deers)}'\n",
        "      plot_2D_array(self.grassland, axes=axes, title=title,\n",
        "                    cmap=self.grazing_colour_map, vmin=0, vmax=len(self.grazing_colour_map.colors))"
      ],
      "metadata": {
        "id": "zIPGFeOPGkKs"
      },
      "execution_count": 25,
      "outputs": []
    },
    {
      "cell_type": "code",
      "source": [
        "# sim = Grazing_simulation(10, 0.2, 5)\n",
        "\n",
        "# for i in range(5):\n",
        "#     sim.step()\n",
        "\n",
        "    \n",
        "n=100\n",
        "q=0.4\n",
        "num_deer = 150\n",
        "arr = Grazing_simulation(n, q, num_deer)\n",
        "\n",
        "# print(arr.grassland)\n",
        "\n",
        "see = Animation2D(arr)\n",
        "see.animate()\n",
        "# see.show()\n",
        "# arr.step()\n",
        "# see.animate()"
      ],
      "metadata": {
        "colab": {
          "base_uri": "https://localhost:8080/",
          "height": 827
        },
        "id": "48BB1o5TIED6",
        "outputId": "30ae2dfd-8b1d-4c9a-a3fb-1db9be60a5b9"
      },
      "execution_count": null,
      "outputs": [
        {
          "output_type": "stream",
          "name": "stdout",
          "text": [
            "weights at each time step: {(84, 52): 5, (25, 95): 15, (39, 86): 5, (55, 32): 45, (94, 13): 15, (3, 65): 15, (63, 1): 35, (6, 9): 35, (5, 82): 35, (82, 31): 25, (30, 6): 30, (18, 69): 35, (11, 71): 55, (96, 66): 15, (58, 87): 45, (88, 18): 25, (87, 57): 15, (80, 8): 25, (61, 34): 15, (18, 58): 15, (55, 56): 60, (65, 8): 45, (83, 60): 35, (34, 62): 25, (59, 60): 5, (96, 94): 20, (11, 93): 5, (43, 86): 35, (39, 94): 30, (50, 35): 5, (91, 23): 35, (11, 31): 45, (4, 85): 35, (17, 39): 25, (19, 6): 50, (32, 16): 30, (22, 6): 5, (43, 93): 25, (99, 15): 55, (81, 93): 40, (1, 60): 30, (14, 44): 45, (2, 9): 45, (64, 83): 30, (54, 96): 35, (49, 82): 15, (72, 18): 25, (11, 10): 25, (39, 68): 55, (74, 13): 35, (86, 27): 25, (89, 48): 25, (75, 21): 25, (45, 44): 35, (25, 0): 30, (20, 77): 35, (66, 13): 25, (2, 97): 35, (93, 70): 35, (1, 8): 35, (40, 34): 55, (4, 40): 35, (2, 82): 35, (49, 29): 5, (74, 31): 55, (33, 33): 25, (27, 13): 25, (76, 31): 35, (70, 21): 55, (87, 30): 35, (96, 35): 5, (82, 75): 50, (41, 92): 50, (95, 21): 25, (94, 98): 15, (74, 63): 30, (15, 79): 45, (66, 26): 25, (30, 2): 35, (79, 53): 55, (77, 94): 15, (17, 44): 25, (79, 14): 15, (99, 78): 5, (87, 11): 5, (35, 59): 15, (2, 76): 25, (1, 38): 25, (84, 22): 5, (1, 45): 15, (47, 2): 25, (91, 75): 20, (8, 28): 5, (24, 62): 25, (49, 81): 35, (61, 95): 35, (36, 22): 25, (53, 30): 25, (70, 87): 35, (54, 10): 45, (96, 54): 15, (99, 27): 30, (62, 21): 45, (85, 21): 35, (40, 76): 45, (90, 26): 25, (95, 87): 45, (7, 20): 25, (38, 76): 25, (20, 82): 25, (43, 57): 35, (91, 80): 25, (91, 79): 15, (99, 17): 25, (16, 15): 25, (34, 79): 35, (79, 70): 55, (7, 90): 35, (20, 46): 45, (28, 59): 25, (43, 43): 25, (78, 53): 25, (10, 69): 15, (75, 88): 35, (41, 10): 5, (86, 71): 35, (65, 77): 35, (74, 5): 0, (14, 65): 35, (33, 52): 55}\n",
            "---------------------------------------------------------------------------------------\n"
          ]
        },
        {
          "output_type": "display_data",
          "data": {
            "text/plain": [
              "<Figure size 900x900 with 1 Axes>"
            ],
            "image/png": "[encoded data removed]"
          },
          "metadata": {}
        }
      ]
    },
    {
      "cell_type": "code",
      "source": [
        "#MAKING THE DEER MOVE\n",
        "\n",
        "#####################\n",
        "# 1) get occupied locations (list)\n",
        "# 2) get cardinal neighbors (list)\n",
        "# 3) get cardinal neighbors in (2) that are not in (1). if length of list > 0 delete current position from occupied. else break and stay put\n",
        "# 4) pick random cardinal neighbor in (3) and make it the deer's new position\n",
        "# 5) add (4) to (1)\n",
        "\n",
        "\n",
        "# it would help if we made a cardinal neighbor function in the Deer class\n",
        "\n",
        "\n",
        "# THINGS WE NEED TO WORK ON:\n",
        "# 1. regenerating the vegetation\n",
        "# 2. making the deer 'smart' so they can choose where they should go based on the vegetation around them (Joseph sent me an email about this)\n",
        "#    honestly after running a few simulations it does not seem realistic AT ALL that the entire deer population die in less than half the time \n",
        "#    steps :/ especially with all the vegetated cells still there\n",
        "# "
      ],
      "metadata": {
        "id": "u-e0hEiCxloj"
      },
      "execution_count": 17,
      "outputs": []
    }
  ]
}