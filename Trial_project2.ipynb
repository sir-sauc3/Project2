{
  "nbformat": 4,
  "nbformat_minor": 0,
  "metadata": {
    "colab": {
      "provenance": [],
      "include_colab_link": true
    },
    "kernelspec": {
      "name": "python3",
      "display_name": "Python 3"
    },
    "language_info": {
      "name": "python"
    }
  },
  "cells": [
    {
      "cell_type": "markdown",
      "metadata": {
        "id": "view-in-github",
        "colab_type": "text"
      },
      "source": [
        "<a href=\"https://colab.research.google.com/github/sir-sauc3/Project2/blob/main/Trial_project2.ipynb\" target=\"_parent\"><img src=\"https://colab.research.google.com/assets/colab-badge.svg\" alt=\"Open In Colab\"/></a>"
      ]
    },
    {
      "cell_type": "code",
      "execution_count": 1,
      "metadata": {
        "id": "iTRxTv9uEn-6"
      },
      "outputs": [],
      "source": [
        "import numpy as np\n",
        "from dataclasses import dataclass\n",
        "from pprint import pprint\n",
        "import random\n",
        "from scipy.signal import correlate2d\n",
        "\n",
        "import time\n",
        "\n",
        "import matplotlib\n",
        "import matplotlib.pyplot as plt\n",
        "from matplotlib import animation\n",
        "import matplotlib.colors as colors"
      ]
    },
    {
      "cell_type": "code",
      "source": [
        "DEFAULT_IMSHOW_OPTIONS = dict(\n",
        "    cmap='Blues',\n",
        "    interpolation='none',\n",
        "    origin='upper',\n",
        ")\n",
        "\n",
        "\n",
        "def plot_2D_array(array, axes=None, title='', **options):\n",
        "    \"\"\" Plot the 2D array as an image on the given axes  1's will be dark blue, 0's will be light blue. \"\"\"\n",
        "    axes = axes or plt.gca()  # If not axes are provided, draw on current axes\n",
        "    axes.set_title(title)\n",
        "    axes.set_xticks([], [])  # remove axes tick marks\n",
        "    axes.set_yticks([], [])\n",
        "    options = {**DEFAULT_IMSHOW_OPTIONS, **options}\n",
        "    axes.imshow(array, **options)"
      ],
      "metadata": {
        "id": "l9uk8kBUSgua"
      },
      "execution_count": 2,
      "outputs": []
    },
    {
      "cell_type": "code",
      "source": [
        "class Animation2D:\n",
        "    \"\"\"\n",
        "      Animates any 2D model with a step() method and a draw() method, using matplotlib\n",
        "      model.step() should take no parameters - just step the model forward one step.\n",
        "      model.draw() should take 2 parameters, the matpltolib axes to draw on and an integer step number\n",
        "\n",
        "      See https://www.allendowney.com/blog/2019/07/25/matplotlib-animation-in-jupyter/\n",
        "          for a discussion of the pros and cons of various animation techniques in jupyter notebooks\n",
        "    \"\"\"\n",
        "\n",
        "    def __init__(self, model, frames=50, steps_per_frame=1, figsize=(9, 9)): #frames=50, steps_per_frame=1, figsize=(8, 8)\n",
        "        \"\"\"\n",
        "        :param model: the simulation object to animate, with step() and draw(axes, step) methods\n",
        "        :param frames: number of animation frames to generate\n",
        "        \"\"\"\n",
        "        self.model = model\n",
        "        self.frames = frames\n",
        "        self.steps_per_frame = steps_per_frame\n",
        "        self.fig, self.ax = plt.subplots(figsize=figsize)\n",
        "\n",
        "    def animation_step(self, step):\n",
        "        \"\"\" Step the model forward and draw the plot \"\"\"\n",
        "        if step > 0:\n",
        "            for _ in range(self.steps_per_frame):\n",
        "                self.model.step()\n",
        "        self.model.draw(self.ax, step=step * self.steps_per_frame)\n",
        "\n",
        "    def show(self):\n",
        "        \"\"\" return the matplotlib animation object, ready for display \"\"\"\n",
        "        anim = animation.FuncAnimation(self.fig, self.animation_step, frames=self.frames)\n",
        "        plt.close()  # this ensures the last frame is not shown as a separate plot\n",
        "        return anim\n",
        "\n",
        "    def animate(self, interval=0.4):\n",
        "        \"\"\" Animate the model simulation directly in the notebook display block \"\"\"\n",
        "        from IPython.display import clear_output\n",
        "        try:\n",
        "            for i in range(self.frames):\n",
        "                clear_output(wait=True)  # clear the IPython display\n",
        "                self.ax.clear()  # clear old image from the axes (fixes a performance issue)\n",
        "                plt.figure(self.fig)  # add the figure back to pyplot ** sigh **\n",
        "                self.animation_step(i)\n",
        "                plt.show()  # show the current animation frame (pyplot then closes and throws away figure ** sigh **)\n",
        "                if interval:\n",
        "                    time.sleep(interval)\n",
        "        except KeyboardInterrupt:\n",
        "            pass"
      ],
      "metadata": {
        "id": "-myg3tDjSch0"
      },
      "execution_count": 15,
      "outputs": []
    },
    {
      "cell_type": "code",
      "source": [
        "class Deer:\n",
        "\n",
        "  def __init__(self, location, weight=30, **grid_size):\n",
        "    self.location = tuple(location)\n",
        "    self.weight = weight\n",
        "    self.gridsize= grid_size['grid_size']\n",
        "\n",
        "  def cardinal_neighbors(self):\n",
        "    x = self.location[0]\n",
        "    y = self.location[1]\n",
        "    return [((x-1)%self.gridsize, y), (x, (y+1)%self.gridsize), ((x+1)%self.gridsize, y), (x, (y-1)%self.gridsize)]"
      ],
      "metadata": {
        "id": "dhtd6vmxtzW7"
      },
      "execution_count": 4,
      "outputs": []
    },
    {
      "cell_type": "code",
      "source": [
        "class Grazing_simulation:\n",
        "\n",
        "\n",
        "  cmap = [(1, 0.5, 0), (0, 1, 0)]\n",
        "  grazing_colour_map = matplotlib.colors.ListedColormap(cmap)\n",
        "\n",
        "\n",
        "  def __init__(self, size, coverage, num_deer, regrowth_rate=0.25, max_weight=50, metabolism=10, regrowth_interval=5):\n",
        "      self.size = size\n",
        "      self.coverage = coverage\n",
        "      self.num_deer = num_deer\n",
        "      self.regrowth_rate = regrowth_rate\n",
        "      self.max_weight = max_weight\n",
        "      self.metabolism = metabolism\n",
        "      self.regrowth_interval = regrowth_interval\n",
        "      self.step_count = 0\n",
        "\n",
        "      self.grassland = np.random.choice([1,0], (size,size), p=(coverage, 1-coverage))\n",
        "      self.introduce_deer()\n",
        "\n",
        "  def calculate_weights(self, deer):\n",
        "      weights = []\n",
        "      for neighbor in deer.cardinal_neighbors():\n",
        "          x, y = neighbor\n",
        "          if self.grassland[y][x] == 1:\n",
        "              weight = 1\n",
        "          else:\n",
        "              weight = 0\n",
        "          weights.append(weight)\n",
        "      return weights\n",
        "\n",
        "\n",
        "  def introduce_deer(self):\n",
        "      locs = [(x,y) for x in range(self.size) for y in range(self.size)]\n",
        "      np.random.shuffle(locs)\n",
        "\n",
        "      assert(self.num_deer <= len(locs))\n",
        "      self.deers = [Deer(locs[i], grid_size = self.size) for i in range(self.num_deer)]\n",
        "\n",
        "\n",
        "  def move_deer(self, deer):      \n",
        "    weights = self.calculate_weights(deer)\n",
        "    max_weight = max(weights)\n",
        "    best_neighbors = [i for i, w in enumerate(weights) if w == max_weight]\n",
        "    available_to_move = [(x,y) for i, (x,y) in enumerate(deer.cardinal_neighbors()) if i in best_neighbors and (x,y) not in self.occupied_locations]\n",
        "\n",
        "    if (len(available_to_move) > 0):\n",
        "        self.occupied_locations.remove(deer.location)\n",
        "        deer.location = random.choice(available_to_move)\n",
        "        self.occupied_locations.append(deer.location)\n",
        "    else:\n",
        "        return\n",
        "\n",
        "    x, y = deer.location\n",
        "    if self.grassland[y][x] == 1:\n",
        "        deer.weight += self.metabolism #A POSSIBLE PARAMETER TO CHANGE FOR SUSTAINABILITY EXPERIMENT\n",
        "        self.grassland[y][x] = 0\n",
        "    else:\n",
        "        deer.weight -= self.metabolism * 1.5 #A POSSIBLE PARAMETER TO CHANGE FOR SUSTAINABILITY EXPERIMENT\n",
        "        if deer.weight <= 0:\n",
        "            self.deers.remove(deer)\n",
        "\n",
        "\n",
        "\n",
        "\n",
        "  def step(self):\n",
        "    self.occupied_locations = [deer.location for deer in self.deers]\n",
        "    other_locs = {}\n",
        "\n",
        "    self.step_count += 1\n",
        "    if self.step_count % self.regrowth_interval == 0:\n",
        "      regrowth_mask = np.random.choice([0,1], (self.size,self.size), p=(1-self.regrowth_rate, self.regrowth_rate))\n",
        "      self.grassland = np.clip(self.grassland + regrowth_mask, 0, 1)\n",
        "\n",
        "    for deer in self.deers:\n",
        "      self.move_deer(deer)\n",
        "      xs, ys = deer.location\n",
        "      other_locs.update({(xs,ys):deer.weight})\n",
        "      points = plt.plot(xs, ys, '.', color='brown', markersize=10)\n",
        "    print(f'weights at each time step: {other_locs}')\n",
        "    print(\"---------------------------------------------------------------------------------------\")\n",
        "\n",
        "\n",
        "  def draw(self, axes=None, step=''):\n",
        "      \"\"\"Draws the CA cells using the forest colour map so values are coloured intuitively.\"\"\"\n",
        "      axes = axes or plt.axes\n",
        "      title = f'Time:{step}\\nNumber of deer present: {len(self.deers)}'\n",
        "      plot_2D_array(self.grassland, axes=axes, title=title,\n",
        "                    cmap=self.grazing_colour_map, vmin=0, vmax=len(self.grazing_colour_map.colors))"
      ],
      "metadata": {
        "id": "zIPGFeOPGkKs"
      },
      "execution_count": 24,
      "outputs": []
    },
    {
      "cell_type": "code",
      "source": [
        "# sim = Grazing_simulation(10, 0.2, 5)\n",
        "\n",
        "# for i in range(5):\n",
        "#     sim.step()\n",
        "\n",
        "    \n",
        "n=100\n",
        "q=0.35\n",
        "num_deer = 300\n",
        "arr = Grazing_simulation(n, q, num_deer)\n",
        "\n",
        "# print(arr.grassland)\n",
        "\n",
        "see = Animation2D(arr)\n",
        "see.animate()\n",
        "# see.show()\n",
        "# arr.step()\n",
        "# see.animate()"
      ],
      "metadata": {
        "colab": {
          "base_uri": "https://localhost:8080/",
          "height": 825
        },
        "id": "48BB1o5TIED6",
        "outputId": "c56ff7a3-ce13-4f7f-d246-a19825cac620"
      },
      "execution_count": 26,
      "outputs": [
        {
          "output_type": "stream",
          "name": "stdout",
          "text": [
            "weights at each time step: {(45, 30): 420.0, (65, 2): 345.0, (16, 66): 395.0, (20, 17): 370.0, (29, 95): 420.0, (73, 85): 270.0, (5, 24): 445.0, (6, 74): 320.0, (15, 97): 410.0, (75, 36): 485.0, (13, 56): 335.0, (0, 48): 320.0, (78, 88): 410.0, (75, 92): 195.0, (64, 36): 470.0, (11, 35): 435.0, (32, 18): 295.0, (30, 75): 335.0, (67, 55): 370.0, (14, 13): 420.0, (43, 48): 420.0, (86, 17): 270.0, (72, 48): 370.0, (32, 83): 445.0, (60, 96): 420.0, (92, 30): 300.0, (2, 23): 285.0, (96, 62): 460.0, (94, 12): 310.0, (60, 5): 350.0, (45, 24): 435.0, (58, 26): 395.0, (2, 70): 395.0, (61, 55): 220.0, (11, 18): 320.0, (45, 45): 295.0, (44, 44): 295.0, (95, 97): 460.0, (17, 45): 370.0, (21, 87): 310.0, (81, 81): 120.0, (4, 48): 375.0, (23, 93): 320.0, (73, 95): 370.0, (35, 1): 410.0, (2, 27): 320.0, (49, 64): 285.0, (71, 66): 320.0, (15, 0): 345.0, (23, 62): 320.0, (75, 8): 320.0, (58, 89): 310.0, (36, 65): 345.0, (12, 69): 245.0, (41, 76): 445.0, (20, 38): 295.0, (86, 38): 95.0, (21, 22): 345.0, (24, 50): 270.0, (53, 14): 345.0, (98, 73): 485.0, (83, 33): 195.0, (45, 59): 220.0, (81, 40): 210.0, (9, 69): 295.0, (34, 61): 270.0, (86, 31): 320.0, (34, 21): 270.0, (63, 50): 295.0, (43, 18): 395.0, (85, 60): 385.0, (98, 22): 295.0, (55, 7): 320.0, (34, 12): 445.0, (64, 81): 395.0, (52, 96): 445.0, (67, 88): 320.0, (29, 70): 360.0, (44, 15): 345.0, (84, 62): 445.0, (40, 45): 285.0, (82, 96): 445.0, (22, 76): 235.0, (27, 19): 110.0, (82, 79): 145.0, (91, 48): 420.0, (18, 12): 445.0, (34, 74): 260.0, (77, 97): 370.0, (16, 25): 370.0, (58, 6): 295.0, (43, 72): 345.0, (51, 58): 345.0, (8, 42): 370.0, (6, 98): 370.0, (58, 63): 385.0, (13, 29): 485.0, (10, 61): 345.0, (93, 39): 370.0, (98, 23): 270.0, (74, 32): 345.0, (18, 79): 170.0, (30, 35): 250.0, (0, 19): 345.0, (86, 77): 245.0, (81, 74): 320.0, (40, 25): 370.0, (80, 97): 425.0, (92, 82): 495.0, (35, 64): 220.0, (76, 59): 390.0, (65, 26): 385.0, (27, 28): 295.0, (58, 22): 320.0, (45, 16): 420.0, (19, 65): 385.0, (47, 68): 320.0, (88, 38): 235.0, (64, 20): 285.0, (45, 34): 345.0, (80, 92): 345.0, (22, 30): 270.0, (27, 72): 345.0, (95, 17): 170.0, (71, 52): 360.0, (53, 78): 395.0, (91, 23): 170.0, (25, 42): 420.0, (7, 69): 345.0, (83, 67): 285.0, (24, 5): 410.0, (82, 9): 445.0, (29, 13): 410.0, (87, 47): 345.0, (75, 77): 420.0, (71, 37): 395.0, (81, 48): 420.0, (95, 75): 395.0, (91, 5): 145.0, (4, 96): 270.0, (37, 85): 445.0, (69, 42): 420.0, (9, 95): 370.0, (71, 19): 445.0, (13, 57): 420.0, (40, 69): 295.0, (91, 31): 345.0, (15, 3): 220.0, (85, 23): 420.0, (47, 57): 345.0, (98, 1): 370.0, (56, 65): 270.0, (6, 4): 345.0, (98, 10): 370.0, (29, 67): 195.0, (7, 31): 510, (36, 51): 345.0, (51, 19): 420.0, (76, 94): 345.0, (24, 90): 295.0, (14, 58): 470.0, (49, 45): 410.0, (62, 25): 410.0, (90, 91): 385.0, (51, 83): 345.0, (73, 49): 360.0, (87, 71): 370.0, (1, 46): 395.0, (7, 18): 385.0, (58, 98): 110.0, (1, 60): 310.0, (43, 13): 395.0, (21, 70): 295.0, (89, 36): 145.0, (79, 79): 275.0, (72, 65): 350.0, (31, 19): 220.0, (77, 65): 495.0, (74, 72): 135.0, (72, 78): 270.0, (62, 44): 420.0, (25, 89): 320.0, (65, 87): 350.0, (8, 56): 310.0, (12, 45): 245.0, (88, 65): 370.0, (62, 96): 385.0, (97, 36): 420.0, (96, 37): 310.0, (42, 35): 270.0, (95, 92): 320.0, (56, 72): 320.0, (76, 68): 460.0, (81, 35): 260.0, (4, 8): 370.0, (55, 29): 310.0, (18, 90): 395.0, (45, 73): 345.0, (59, 59): 420.0, (31, 61): 285.0, (91, 12): 170.0, (43, 64): 285.0, (64, 68): 285.0, (95, 87): 470.0, (48, 38): 320.0, (87, 84): 85.0, (59, 94): 320.0, (46, 58): 260.0, (64, 91): 270.0, (68, 10): 470.0, (36, 91): 335.0, (27, 88): 320.0, (32, 57): 335.0, (55, 82): 395.0, (1, 35): 435.0, (14, 72): 395.0, (11, 85): 245.0, (78, 52): 320.0, (84, 9): 245.0}\n",
            "---------------------------------------------------------------------------------------\n"
          ]
        },
        {
          "output_type": "display_data",
          "data": {
            "text/plain": [
              "<Figure size 900x900 with 1 Axes>"
            ],
            "image/png": "[encoded data removed]"
          },
          "metadata": {}
        }
      ]
    },
    {
      "cell_type": "code",
      "source": [
        "#MAKING THE DEER MOVE\n",
        "\n",
        "#####################\n",
        "# 1) get occupied locations (list)\n",
        "# 2) get cardinal neighbors (list)\n",
        "# 3) get cardinal neighbors in (2) that are not in (1). if length of list > 0 delete current position from occupied. else break and stay put\n",
        "# 4) pick random cardinal neighbor in (3) and make it the deer's new position\n",
        "# 5) add (4) to (1)\n",
        "\n",
        "\n",
        "# it would help if we made a cardinal neighbor function in the Deer class\n",
        "\n",
        "\n",
        "# THINGS WE NEED TO WORK ON:\n",
        "# 1. regenerating the vegetation\n",
        "# 2. making the deer 'smart' so they can choose where they should go based on the vegetation around them (Joseph sent me an email about this)\n",
        "#    honestly after running a few simulations it does not seem realistic AT ALL that the entire deer population die in less than half the time \n",
        "#    steps :/ especially with all the vegetated cells still there\n",
        "\n",
        "\n",
        "\n",
        "\n",
        "# CHANGES AND OBSERVATIONS MADE\n",
        "# 1. CHANGE - lines 56 and 59 of the grazing simulation cell to make use of the metabolism parameter since that was a value we wanted to constatly change and measure sustainabilty\n",
        "# 2. OBSERVATION - w/ metabolism at 9, weight gain = metabolism, and weight loss = metabolism * 1.5, steady state was at time step 34 w/ about 229 deer\n",
        "# 3. OBSERVATION - w/ metabolism at 10, weight gain = metabolism, and weight loss = metabolism * 1.5, steady state was at time step 35 w/ about 219 deer"
      ],
      "metadata": {
        "id": "u-e0hEiCxloj"
      },
      "execution_count": 7,
      "outputs": []
    },
    {
      "cell_type": "markdown",
      "source": [
        "# Experiment Conclusion and Discussion\n",
        "\n",
        "i guess we put our chart and blab about it here lol"
      ],
      "metadata": {
        "id": "Dmw1ZnHvbcgN"
      }
    },
    {
      "cell_type": "markdown",
      "source": [
        "# Algorithm Analysis\n",
        "1. The introduce_deer method has a time complexity of O(n^2) because it loops through all the cells in the grid to create a list of available locations to place the deer, and then shuffles that list before selecting the first m items to create the deer. The step method has a time complexity of O(m\\*n) because it loops through all the deer and their cardinal neighbors to move the deer. This could result in up to a O(n\\*n), should the inputs result in deer occupying every cell (this is an edge case however, not the average case).\n",
        "\n",
        "2. This means that the model will continue to grow exponentially as the size of the CA increases. Thus, it's important to take note of how expensive running this simulation would be for longer CA experiments.\n",
        "\n",
        "3."
      ],
      "metadata": {
        "id": "FsR6cdk6PToz"
      }
    }
  ]
}