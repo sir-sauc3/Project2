{
  "nbformat": 4,
  "nbformat_minor": 0,
  "metadata": {
    "colab": {
      "provenance": [],
      "authorship_tag": "ABX9TyP3HpUkPWIXPHPAiIYgzbEO",
      "include_colab_link": true
    },
    "kernelspec": {
      "name": "python3",
      "display_name": "Python 3"
    },
    "language_info": {
      "name": "python"
    }
  },
  "cells": [
    {
      "cell_type": "markdown",
      "metadata": {
        "id": "view-in-github",
        "colab_type": "text"
      },
      "source": [
        "<a href=\"https://colab.research.google.com/github/sir-sauc3/Project2/blob/main/Trial_project2.ipynb\" target=\"_parent\"><img src=\"https://colab.research.google.com/assets/colab-badge.svg\" alt=\"Open In Colab\"/></a>"
      ]
    },
    {
      "cell_type": "code",
      "execution_count": 29,
      "metadata": {
        "id": "iTRxTv9uEn-6"
      },
      "outputs": [],
      "source": [
        "import numpy as np\n",
        "from dataclasses import dataclass\n",
        "from pprint import pprint\n",
        "import random\n",
        "from scipy.signal import correlate2d\n",
        "\n",
        "import time\n",
        "\n",
        "import matplotlib\n",
        "import matplotlib.pyplot as plt\n",
        "from matplotlib import animation\n",
        "import matplotlib.colors as colors"
      ]
    },
    {
      "cell_type": "code",
      "source": [
        "DEFAULT_IMSHOW_OPTIONS = dict(\n",
        "    cmap='Blues',\n",
        "    interpolation='none',\n",
        "    origin='upper',\n",
        ")\n",
        "\n",
        "\n",
        "def plot_2D_array(array, axes=None, title='', **options):\n",
        "    \"\"\" Plot the 2D array as an image on the given axes  1's will be dark blue, 0's will be light blue. \"\"\"\n",
        "    axes = axes or plt.gca()  # If not axes are provided, draw on current axes\n",
        "    axes.set_title(title)\n",
        "    axes.set_xticks([], [])  # remove axes tick marks\n",
        "    axes.set_yticks([], [])\n",
        "    options = {**DEFAULT_IMSHOW_OPTIONS, **options}\n",
        "    axes.imshow(array, **options)"
      ],
      "metadata": {
        "id": "PGcJ-ThV2Rrk"
      },
      "execution_count": 25,
      "outputs": []
    },
    {
      "cell_type": "code",
      "source": [
        "class Animation2D:\n",
        "    \"\"\"\n",
        "      Animates any 2D model with a step() method and a draw() method, using matplotlib\n",
        "      model.step() should take no parameters - just step the model forward one step.\n",
        "      model.draw() should take 2 parameters, the matpltolib axes to draw on and an integer step number\n",
        "\n",
        "      See https://www.allendowney.com/blog/2019/07/25/matplotlib-animation-in-jupyter/\n",
        "          for a discussion of the pros and cons of various animation techniques in jupyter notebooks\n",
        "    \"\"\"\n",
        "\n",
        "    def __init__(self, model, frames=100, steps_per_frame=1, figsize=(10, 10)):\n",
        "        \"\"\"\n",
        "        :param model: the simulation object to animate, with step() and draw(axes, step) methods\n",
        "        :param frames: number of animation frames to generate\n",
        "        \"\"\"\n",
        "        self.model = model\n",
        "        self.frames = frames\n",
        "        self.steps_per_frame = steps_per_frame\n",
        "        self.fig, self.ax = plt.subplots(figsize=figsize)\n",
        "\n",
        "    def animation_step(self, step):\n",
        "        \"\"\" Step the model forward and draw the plot \"\"\"\n",
        "        if step > 0:\n",
        "            for _ in range(self.steps_per_frame):\n",
        "                self.model.step()\n",
        "        self.model.draw(self.ax, step=step * self.steps_per_frame)\n",
        "\n",
        "    def show(self):\n",
        "        \"\"\" return the matplotlib animation object, ready for display \"\"\"\n",
        "        anim = animation.FuncAnimation(self.fig, self.animation_step, frames=self.frames)\n",
        "        plt.close()  # this ensures the last frame is not shown as a separate plot\n",
        "        return anim\n",
        "\n",
        "    def animate(self, interval=None):\n",
        "        \"\"\" Animate the model simulation directly in the notebook display block \"\"\"\n",
        "        from IPython.display import clear_output\n",
        "        try:\n",
        "            for i in range(self.frames):\n",
        "                clear_output(wait=True)  # clear the IPython display\n",
        "                self.ax.clear()          # clear old image from the axes (fixes a performance issue)\n",
        "                plt.figure(self.fig)     # add the figure back to pyplot ** sigh **\n",
        "                self.animation_step(i)\n",
        "                plt.show()               # show the current animation frame (pyplot then closes and throws away figure ** sigh **)\n",
        "                if interval:\n",
        "                    time.sleep(interval)\n",
        "        except KeyboardInterrupt:\n",
        "            pass"
      ],
      "metadata": {
        "id": "DcW_3HP7yylD"
      },
      "execution_count": 3,
      "outputs": []
    },
    {
      "cell_type": "code",
      "source": [
        "class Deer:\n",
        "  \n",
        "  def __init__(self, loc):\n",
        "    self.loc = tuple(loc)\n",
        "\n",
        "    weight = 20\n",
        "    max_weight = 60\n",
        "    metabolism = 5\n",
        "\n",
        "  \n",
        "  def step():\n",
        "    #make a random cardinal movement\n",
        "    #graze if grass is there\n",
        "    #increase weight if deer grazed or decrease weight if deer didnt graze\n",
        "    return\n",
        "\n",
        "\n",
        "def random_walk(n):\n",
        "  x,y = 0,0\n",
        "\n",
        "  for i in range(n):\n",
        "    dx, dy = random.choice([(1,0), (-1,0), (0,1), (0,-1)])\n",
        "    x+=dx\n",
        "    y+=dy\n",
        "\n",
        "  return((x, y))"
      ],
      "metadata": {
        "id": "6VDmOBuvE_Px"
      },
      "execution_count": 64,
      "outputs": []
    },
    {
      "cell_type": "code",
      "source": [
        "import numpy as np\n",
        "import matplotlib.pyplot as plt\n",
        "\n",
        "# Create two NumPy arrays of the same size\n",
        "arr1 = np.random.rand(3, 3)\n",
        "arr2 = np.random.rand(3, 3)\n",
        "\n",
        "# Display the arrays over each other using imshow\n",
        "fig, ax = plt.subplots()\n",
        "ax.imshow(arr1, cmap='Blues', alpha=0.5)\n",
        "ax.imshow(arr2, cmap='Reds', alpha=0.5)\n",
        "plt.show()"
      ],
      "metadata": {
        "colab": {
          "base_uri": "https://localhost:8080/",
          "height": 434
        },
        "id": "aggbb3orq5JH",
        "outputId": "ff41bfc5-23eb-4584-fd05-ef6e279f2e72"
      },
      "execution_count": 5,
      "outputs": [
        {
          "output_type": "display_data",
          "data": {
            "text/plain": [
              "<Figure size 640x480 with 1 Axes>"
            ],
            "image/png": "[encoded data removed]"
          },
          "metadata": {}
        }
      ]
    },
    {
      "cell_type": "code",
      "source": [
        "import numpy as np\n",
        "import matplotlib.pyplot as plt\n",
        "\n",
        "# Create a 3x3 NumPy array with random values\n",
        "arr = np.random.rand(3, 3)\n",
        "\n",
        "print(arr)\n",
        "# Display the array using a custom colormap\n",
        "fig, ax = plt.subplots()\n",
        "im = ax.imshow(arr, cmap='coolwarm', vmin=0.5, vmax=1.2)\n",
        "\n",
        "# Add a colorbar to show the mapping of values to colors\n",
        "cbar = ax.figure.colorbar(im, ax=ax)\n",
        "\n",
        "# Show the plot\n",
        "plt.show()"
      ],
      "metadata": {
        "colab": {
          "base_uri": "https://localhost:8080/",
          "height": 483
        },
        "id": "evgncbItrxPn",
        "outputId": "962a7da9-385b-45aa-df2b-cc8cb88732a9"
      },
      "execution_count": 6,
      "outputs": [
        {
          "output_type": "stream",
          "name": "stdout",
          "text": [
            "[[0.95599501 0.48782984 0.34379876]\n",
            " [0.16659008 0.75835334 0.26281523]\n",
            " [0.85371509 0.58611021 0.16644266]]\n"
          ]
        },
        {
          "output_type": "display_data",
          "data": {
            "text/plain": [
              "<Figure size 640x480 with 2 Axes>"
            ],
            "image/png": "[encoded data removed]"
          },
          "metadata": {}
        }
      ]
    },
    {
      "cell_type": "code",
      "source": [
        "import numpy as np\n",
        "\n",
        "arr = np.random.uniform(low=-1, high=2, size=(3, 3))\n",
        "\n",
        "print(arr)\n",
        "fig, ax = plt.subplots()\n",
        "im = ax.imshow(arr, cmap='coolwarm', vmin=-0.5, vmax=1.5)\n",
        "\n",
        "# Add a colorbar to show the mapping of values to colors\n",
        "cbar = ax.figure.colorbar(im, ax=ax)\n",
        "\n",
        "# Show the plot\n",
        "plt.show()"
      ],
      "metadata": {
        "colab": {
          "base_uri": "https://localhost:8080/",
          "height": 483
        },
        "id": "QHgdhlQishRU",
        "outputId": "e6ff5ae7-6868-4692-95aa-0fc279d7ccdd"
      },
      "execution_count": 7,
      "outputs": [
        {
          "output_type": "stream",
          "name": "stdout",
          "text": [
            "[[-0.88852077 -0.39889043  0.62553393]\n",
            " [-0.64914683 -0.1780796   0.52901677]\n",
            " [-0.97521804 -0.13620618  0.37537384]]\n"
          ]
        },
        {
          "output_type": "display_data",
          "data": {
            "text/plain": [
              "<Figure size 640x480 with 2 Axes>"
            ],
            "image/png": "[encoded data removed]"
          },
          "metadata": {}
        }
      ]
    },
    {
      "cell_type": "code",
      "source": [
        "class Grazing_sim:\n",
        "\n",
        "  kernel = np.array([[0, 1, 0],\n",
        "                     [1, 0, 1],\n",
        "                     [0, 1, 0]])\n",
        "\n",
        "  # i created 3 arrays: grassland, init_deer_location, field\n",
        "  # grassland just randomizes the grass coverage\n",
        "  # init_deer_location is an array of the same shape that only has 0s and 3s; 3s meaning they have deer there\n",
        "  # field puts the two together where the 3s in init_deer_location take precedence and replace any 0s and 1s in the grassland array\n",
        "  def __init__(self, size, deer_amt, q):\n",
        "    self.size = size\n",
        "    self.deer_amt = deer_amt\n",
        "    self.q = q\n",
        "    \n",
        "    self.grassland = np.random.choice([1, 0], (self.size,self.size), p=(q, 1-q))\n",
        "    _ = np.random.choice(self.size**2, size=deer_amt, replace=False)\n",
        "    # creates a 1D array. param 1 is the size the 1D array should be - which equals the total number of cells in grassland\n",
        "    # then it picks size=deer_amt random indexes to put the deer\n",
        "    # replace=False in this case means that it wouldn't pick an index it already picked\n",
        "    # the random indexes picked are collected in _\n",
        "\n",
        "    x, y = np.unravel_index(_, (self.size, self.size)) \n",
        "    # unravel_index first makes a size by size 2D array then returns the coordinates of the indexes in _\n",
        "    # it returns two arrays; the x coordintes in one array, and the y coordintes in another\n",
        "\n",
        "    init_deer_location = np.zeros((self.size,self.size))\n",
        "    init_deer_location[x,y] = 3\n",
        "    # here's where the actual inital deer location array is made\n",
        "    # it creates an array of all zeros (same size as grassland)\n",
        "    # then takes the coordinates from the returned coordinate arrays and replaces the 0s with 3s\n",
        "\n",
        "    # print(self.one)\n",
        "    # correlated_matrix = correlate2d(self.one, self.kernel, mode='same', boundary='wrap')\n",
        "    # print('\\n')\n",
        "    # print(correlated_matrix)\n",
        "\n",
        "    self.field = np.where(init_deer_location==3, init_deer_location, self.grassland).astype(int)\n",
        "    # field is a mix of both arrays\n",
        "    # param1 sets precedence, param2 indicates which arary is on the top, param3 indicates whic array is on the bottom\n",
        "    # .astype(int) just removes the decimal points that it puts on the numbers for some reason\n",
        "    # print(self.three)\n",
        "\n",
        "    '''\n",
        "    if statement @37 \n",
        "    self.grassfield = 1:\n",
        "    self.field = np.where(init_deer_location==4, init_deer_location, self.grassland).astype(int)\n",
        "    '''\n",
        "\n",
        "\n",
        "\n",
        "  def move_to(self, current_pos):\n",
        "    # Get neighboring cells of current position\n",
        "\n",
        "    occupied = [(x,y) for x,y in zip(np.where(self.field==3)[0], np.where(self.field==3)[1])]\n",
        "    correlated_matrix = correlate2d(self.grassland, self.kernel, mode='same', boundary='wrap')\n",
        "    \n",
        "\n",
        "    neighbors = [(current_pos[0]+i, current_pos[1]+j) \n",
        "                  if (current_pos[0]+i < correlated_matrix.shape[0]) and (current_pos[1]+j < correlated_matrix.shape[1])\n",
        "                  else correlated_matrix[0, current_pos[1]+j] if (current_pos[0]+i >= correlated_matrix.shape[0])\n",
        "                  else correlated_matrix[current_pos[1]+i, 0] if (current_pos[1]+j >= correlated_matrix.shape[1])\n",
        "                  else 0\n",
        "                  for i in [-1, 1] for j in [-1, 1] \n",
        "                 ]\n",
        "    \n",
        "\n",
        "    \n",
        "    # Remove occupied cells from list of available neighbors\n",
        "    available_neighbors = [n for n in neighbors if n not in occupied and self.field[n] != 3]\n",
        "    \n",
        "    # If all neighbors are occupied, stay in current position\n",
        "    if len(available_neighbors) == 0:\n",
        "        return current_pos\n",
        "    \n",
        "    # Calculate values of neighboring cells in correlated matrix\n",
        "    # neighbor_values = [correlated_matrix[n] \n",
        "    #                    for n in available_neighbors \n",
        "    #                    if (0 <= n[0] < correlated_matrix.shape[0]) and (0 <= n[1] < correlated_matrix.shape[1])]\n",
        "    neighbor_values = [\n",
        "                   correlated_matrix[n] if (n[0] < correlated_matrix.shape[0] and n[1] < correlated_matrix.shape[1])\n",
        "                   else correlated_matrix[0, n[1]] if (n[0] >= correlated_matrix.shape[0])\n",
        "                   else correlated_matrix[n[0], 0] if (n[1] >= correlated_matrix.shape[1])\n",
        "                   else 0\n",
        "                   for n in neighbors]\n",
        "    \n",
        "    # Get index of neighboring cell with highest value\n",
        "    best_neighbor_index = np.argmax(neighbor_values)\n",
        "    \n",
        "    # Choose the best neighboring cell to move to\n",
        "    best_neighbor = available_neighbors[best_neighbor_index]\n",
        "    \n",
        "    return best_neighbor\n",
        "\n",
        "\n",
        "\n",
        "\n",
        "\n",
        "  # def draw(self, fig=None, ax=None):\n",
        "  #       if fig is None and ax is None:\n",
        "  #           # if fig and ax are not provided, create them\n",
        "  #           fig, ax = plt.subplots()\n",
        "  #       # do your plotting here using the fig and ax objects\n",
        "        \n",
        "  #       return fig, ax\n",
        "\n",
        "\n",
        "\n",
        "\n",
        "\n",
        "\n",
        "  def draw(self, fig=None, axes=None):\n",
        "    fig, ax = plt.subplots()\n",
        "    cmap = [(225/225, 248/255, 220/255),(0,1,0),(0,0,0),(165/255, 42/255, 42/255)]\n",
        "    field_color_map = matplotlib.colors.ListedColormap(cmap)\n",
        "    ax.imshow(self.field, cmap=field_color_map, vmin=0, vmax=3)\n",
        "\n",
        "    # create a title for the plot\n",
        "    ax.set_title(f\"Grazing Simulation, step {self.step}\")\n",
        "\n",
        "    # draw the field\n",
        "    ax.imshow(self.field, cmap=cmap, vmin=0, vmax=3)\n",
        "    \n",
        "    # show the plot\n",
        "    plt.show()\n",
        "\n",
        "\n",
        "# print(one)\n",
        "# print(two)\n",
        "\n",
        "# deer_loc = two==3\n",
        "# print(deer_loc)\n"
      ],
      "metadata": {
        "id": "IZMhi3JPGJdB"
      },
      "execution_count": 57,
      "outputs": []
    },
    {
      "cell_type": "code",
      "source": [
        "q = 0.5\n",
        "size = 20\n",
        "deer_amt = 5\n",
        "\n",
        "test = Grazing_sim(size, deer_amt, q)\n",
        "\n",
        "loc = test.field[test.field==3]\n",
        "# print(loc)\n",
        "\n",
        "# coord = [position.location for position in loc]\n",
        "test.draw()\n",
        "\n",
        "run = Animation2D(test)\n",
        "run.animate()"
      ],
      "metadata": {
        "colab": {
          "base_uri": "https://localhost:8080/",
          "height": 752
        },
        "id": "vJ3SDwMf7pp6",
        "outputId": "43a9516d-afb5-4101-b857-759a84a4a31b"
      },
      "execution_count": 63,
      "outputs": [
        {
          "output_type": "error",
          "ename": "AttributeError",
          "evalue": "ignored",
          "traceback": [
            "\u001b[0;31m---------------------------------------------------------------------------\u001b[0m",
            "\u001b[0;31mAttributeError\u001b[0m                            Traceback (most recent call last)",
            "\u001b[0;32m<ipython-input-63-32711298e438>\u001b[0m in \u001b[0;36m<cell line: 11>\u001b[0;34m()\u001b[0m\n\u001b[1;32m      9\u001b[0m \u001b[0;34m\u001b[0m\u001b[0m\n\u001b[1;32m     10\u001b[0m \u001b[0;31m# coord = [position.location for position in loc]\u001b[0m\u001b[0;34m\u001b[0m\u001b[0;34m\u001b[0m\u001b[0m\n\u001b[0;32m---> 11\u001b[0;31m \u001b[0mtest\u001b[0m\u001b[0;34m.\u001b[0m\u001b[0mdraw\u001b[0m\u001b[0;34m(\u001b[0m\u001b[0;34m)\u001b[0m\u001b[0;34m\u001b[0m\u001b[0;34m\u001b[0m\u001b[0m\n\u001b[0m\u001b[1;32m     12\u001b[0m \u001b[0;34m\u001b[0m\u001b[0m\n\u001b[1;32m     13\u001b[0m \u001b[0mrun\u001b[0m \u001b[0;34m=\u001b[0m \u001b[0mAnimation2D\u001b[0m\u001b[0;34m(\u001b[0m\u001b[0mtest\u001b[0m\u001b[0;34m)\u001b[0m\u001b[0;34m\u001b[0m\u001b[0;34m\u001b[0m\u001b[0m\n",
            "\u001b[0;32m<ipython-input-57-4fdc41443725>\u001b[0m in \u001b[0;36mdraw\u001b[0;34m(self, fig, axes)\u001b[0m\n\u001b[1;32m    112\u001b[0m \u001b[0;34m\u001b[0m\u001b[0m\n\u001b[1;32m    113\u001b[0m     \u001b[0;31m# create a title for the plot\u001b[0m\u001b[0;34m\u001b[0m\u001b[0;34m\u001b[0m\u001b[0m\n\u001b[0;32m--> 114\u001b[0;31m     \u001b[0max\u001b[0m\u001b[0;34m.\u001b[0m\u001b[0mset_title\u001b[0m\u001b[0;34m(\u001b[0m\u001b[0;34mf\"Grazing Simulation, step {self.step}\"\u001b[0m\u001b[0;34m)\u001b[0m\u001b[0;34m\u001b[0m\u001b[0;34m\u001b[0m\u001b[0m\n\u001b[0m\u001b[1;32m    115\u001b[0m \u001b[0;34m\u001b[0m\u001b[0m\n\u001b[1;32m    116\u001b[0m     \u001b[0;31m# draw the field\u001b[0m\u001b[0;34m\u001b[0m\u001b[0;34m\u001b[0m\u001b[0m\n",
            "\u001b[0;31mAttributeError\u001b[0m: 'Grazing_sim' object has no attribute 'step'"
          ]
        },
        {
          "output_type": "display_data",
          "data": {
            "text/plain": [
              "<Figure size 640x480 with 1 Axes>"
            ],
            "image/png": "[encoded data removed]"
          },
          "metadata": {}
        }
      ]
    },
    {
      "cell_type": "code",
      "source": [
        "# for i in zip(np.where(test.field==3)[0], np.where(test.field==3)[1]):\n",
        "#   print(i)\n",
        "\n",
        "\n",
        "occupied = [(x,y) for x,y in zip(np.where(test.field==3)[0], np.where(test.field==3)[1])]\n",
        "print(occupied)"
      ],
      "metadata": {
        "id": "E03jl2lVrgeH"
      },
      "execution_count": null,
      "outputs": []
    },
    {
      "cell_type": "code",
      "source": [
        "# Define your kernel k here\n",
        "k = np.array([[0, 1, 0],\n",
        "              [1, 0, 1],\n",
        "              [0, 1, 0]])\n",
        "\n",
        "q = 0.3\n",
        "size = 5\n",
        "num = 3\n",
        "M = np.random.choice([0,1], (size,size), p=(q, 1-q))\n",
        "two = np.random.choice(size**2, size=3, replace=False)\n",
        "print(two)\n",
        "(x, y) = np.unravel_index(two, (size, size))\n",
        "# occ_loc = [(x,y) for x,y in np.unravel_index(two, (size, size))]\n",
        "two = np.zeros((size,size))\n",
        "print(x,y)\n",
        "for xy in zip(x,y):\n",
        "  print(xy)\n",
        "two[x,y] = 3\n",
        "print(two)\n",
        "three = np.where(two==3, two, M).astype(int)\n",
        "\n",
        "# Calculate the correlated matrix C\n",
        "C = correlate2d(M, k, mode='same', boundary='wrap')\n",
        "# correlate2d(self.one, self.kernel, mode='same', boundary='wrap')\n",
        "\n",
        "# Define a function to get the highest value neighbor given a cell index\n",
        "def get_highest_neighbor(cell_idx):\n",
        "    i, j = cell_idx\n",
        "    neighbors = [(i-1, j), (i+1, j), (i, j-1), (i, j+1)] # cardinal neighbors\n",
        "    neighbor_values = [C[n] for n in neighbors if (0 <= n[0] < C.shape[0]) and (0 <= n[1] < C.shape[1])] # get neighbor values\n",
        "    if len(neighbor_values) > 0:\n",
        "        highest_neighbor = neighbors[np.argmax(neighbor_values)]\n",
        "    else:\n",
        "        highest_neighbor = cell_idx # stay put if no neighbors\n",
        "    return highest_neighbor\n",
        "\n",
        "# Move agents based on highest value neighbor\n",
        "# for agent in A:\n",
        "#     current_location = agent.location\n",
        "#     highest_neighbor = get_highest_neighbor(current_location)\n",
        "#     agent.move_to(highest_neighbor)\n",
        "\n"
      ],
      "metadata": {
        "colab": {
          "base_uri": "https://localhost:8080/"
        },
        "id": "DAPdeVzXSlqz",
        "outputId": "4d5afcb1-1b81-4b8a-ac25-a7f27adfe40a"
      },
      "execution_count": 60,
      "outputs": [
        {
          "output_type": "stream",
          "name": "stdout",
          "text": [
            "[21  4  7]\n",
            "[4 0 1] [1 4 2]\n",
            "(4, 1)\n",
            "(0, 4)\n",
            "(1, 2)\n",
            "[[0. 0. 0. 0. 3.]\n",
            " [0. 0. 3. 0. 0.]\n",
            " [0. 0. 0. 0. 0.]\n",
            " [0. 0. 0. 0. 0.]\n",
            " [0. 3. 0. 0. 0.]]\n"
          ]
        }
      ]
    },
    {
      "cell_type": "code",
      "source": [
        "print('field\\n')\n",
        "print(M)\n",
        "print('\\n\\nfield with deer\\n')\n",
        "print(three)\n",
        "print('\\n\\ncorrelated field\\n')\n",
        "print(C)\n",
        "\n",
        "unoccupied = three<3\n",
        "print('\\n\\ncells with no deer\\n')\n",
        "print(unoccupied)\n",
        "print('\\n')\n",
        "\n",
        "\n",
        "i=2\n",
        "j=2\n",
        "\n",
        "\n",
        "print(f'the value of C[{i},{j}] is {C[i,j]}\\n')\n",
        "\n",
        "\n",
        "neighbors = [(i-1, j), (i, j+1), (i+1, j), (i, j-1)] #up, right, down, left\n",
        "neighbor_values = [C[n] for n in neighbors if (0 <= n[0] < C.shape[0]) and (0 <= n[1] < C.shape[1])]\n",
        "neighbor_values = [\n",
        "                   C[n] if (n[0] < C.shape[0] and n[1] < C.shape[1])\n",
        "                   else C[0, n[1]] if (n[0] >= C.shape[0])\n",
        "                   else C[n[0], 0] if (n[1] >= C.shape[1])\n",
        "                   else 0\n",
        "                   for n in neighbors]\n",
        "\n",
        "\n",
        "\n",
        "print(f'The neighbor values of i={i} and j={j} are {neighbor_values}\\nAnd the index of the highest neighbor is {np.argmax(neighbor_values)}')\n",
        "\n",
        "# for ji in neighbors:\n",
        "#   print(f'ji[0] = {ji[0]}\\tji[1] = {ji[1]}\\tC.shape[0] = {C.shape[0]}\\tC.shape[1] = {C.shape[1]}')\n",
        "#   print(ji[0] < C.shape[0] and ji[1] < C.shape[1])\n",
        "# print(C.shape)\n",
        "\n",
        "# (y,x) = np.where(M == 1)\n",
        "\n",
        "# print(y,x)\n",
        "\n",
        "# print(get_highest_neighbor((3,1)))"
      ],
      "metadata": {
        "colab": {
          "base_uri": "https://localhost:8080/"
        },
        "id": "jmGZLiSVWh_a",
        "outputId": "70bb0ff4-73ff-44a2-83e3-24245477e28c"
      },
      "execution_count": 62,
      "outputs": [
        {
          "output_type": "stream",
          "name": "stdout",
          "text": [
            "field\n",
            "\n",
            "[[1 1 1 0 1]\n",
            " [1 1 1 1 1]\n",
            " [0 1 1 1 0]\n",
            " [1 1 1 1 1]\n",
            " [0 1 1 1 1]]\n",
            "\n",
            "\n",
            "field with deer\n",
            "\n",
            "[[1 1 1 0 3]\n",
            " [1 1 3 1 1]\n",
            " [0 1 1 1 0]\n",
            " [1 1 1 1 1]\n",
            " [0 3 1 1 1]]\n",
            "\n",
            "\n",
            "correlated field\n",
            "\n",
            "[[3 4 3 4 3]\n",
            " [3 4 4 3 3]\n",
            " [3 3 4 3 3]\n",
            " [2 4 4 4 3]\n",
            " [4 3 4 3 3]]\n",
            "\n",
            "\n",
            "cells with no deer\n",
            "\n",
            "[[ True  True  True  True False]\n",
            " [ True  True False  True  True]\n",
            " [ True  True  True  True  True]\n",
            " [ True  True  True  True  True]\n",
            " [ True False  True  True  True]]\n",
            "\n",
            "\n",
            "the value of C[2,2] is 4\n",
            "\n",
            "The neighbor values of i=2 and j=2 are [4, 3, 4, 3]\n",
            "And the index of the highest neighbor is 0\n"
          ]
        }
      ]
    },
    {
      "cell_type": "code",
      "source": [
        "'''\n",
        "Probably want to use a kernel to tell the value of the neighboring cells\n",
        "When a deer 'sees' that theres's a cell with a value of 1, it moves there\n",
        "\n",
        "choosinng a cell to move to\n",
        "1. make a chek_if_occupied_neighborhood function that checks if there are other deer in its cardinal neighbors\n",
        "'''"
      ],
      "metadata": {
        "id": "6JKHHhna50yo"
      },
      "execution_count": null,
      "outputs": []
    },
    {
      "cell_type": "code",
      "source": [
        "import numpy as np\n",
        "\n",
        "# Create the first array with 0s and 1s\n",
        "arr1 = np.array([[1, 0, 1],\n",
        "                 [0, 1, 0],\n",
        "                 [1, 1, 0]])\n",
        "\n",
        "# Create the second array with 0s and 3s\n",
        "arr2 = np.array([[0, 0, 0],\n",
        "                 [3, 3, 0],\n",
        "                 [0, 0, 3]])\n",
        "\n",
        "# Create the third array by combining the first and second arrays\n",
        "arr3 = np.where(arr2 == 3, arr2, arr1)\n",
        "\n",
        "# Print the arrays to check the result\n",
        "print(\"Array 1:\\n\", arr1)\n",
        "print(\"Array 2:\\n\", arr2)\n",
        "print(\"Array 3:\\n\", arr3)"
      ],
      "metadata": {
        "id": "wVw0VzSdOBqj"
      },
      "execution_count": null,
      "outputs": []
    }
  ]
}