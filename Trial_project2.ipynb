{
  "nbformat": 4,
  "nbformat_minor": 0,
  "metadata": {
    "colab": {
      "provenance": [],
      "include_colab_link": true
    },
    "kernelspec": {
      "name": "python3",
      "display_name": "Python 3"
    },
    "language_info": {
      "name": "python"
    }
  },
  "cells": [
    {
      "cell_type": "markdown",
      "metadata": {
        "id": "view-in-github",
        "colab_type": "text"
      },
      "source": [
        "<a href=\"https://colab.research.google.com/github/sir-sauc3/Project2/blob/main/Trial_project2.ipynb\" target=\"_parent\"><img src=\"https://colab.research.google.com/assets/colab-badge.svg\" alt=\"Open In Colab\"/></a>"
      ]
    },
    {
      "cell_type": "code",
      "execution_count": 10,
      "metadata": {
        "id": "iTRxTv9uEn-6"
      },
      "outputs": [],
      "source": [
        "import numpy as np\n",
        "from dataclasses import dataclass\n",
        "from pprint import pprint\n",
        "import random\n",
        "from scipy.signal import correlate2d\n",
        "import timeit\n",
        "import time\n",
        "\n",
        "import matplotlib\n",
        "import matplotlib.pyplot as plt\n",
        "from matplotlib import animation\n",
        "import matplotlib.colors as colors"
      ]
    },
    {
      "cell_type": "code",
      "source": [
        "DEFAULT_IMSHOW_OPTIONS = dict(\n",
        "    cmap='Blues',\n",
        "    interpolation='none',\n",
        "    origin='upper',\n",
        ")\n",
        "\n",
        "\n",
        "def plot_2D_array(array, axes=None, title='', **options):\n",
        "    \"\"\" Plot the 2D array as an image on the given axes  1's will be dark blue, 0's will be light blue. \"\"\"\n",
        "    axes = axes or plt.gca()  # If not axes are provided, draw on current axes\n",
        "    axes.set_title(title)\n",
        "    axes.set_xticks([], [])  # remove axes tick marks\n",
        "    axes.set_yticks([], [])\n",
        "    options = {**DEFAULT_IMSHOW_OPTIONS, **options}\n",
        "    axes.imshow(array, **options)"
      ],
      "metadata": {
        "id": "l9uk8kBUSgua"
      },
      "execution_count": 2,
      "outputs": []
    },
    {
      "cell_type": "code",
      "source": [
        "class Animation2D:\n",
        "    \"\"\"\n",
        "      Animates any 2D model with a step() method and a draw() method, using matplotlib\n",
        "      model.step() should take no parameters - just step the model forward one step.\n",
        "      model.draw() should take 2 parameters, the matpltolib axes to draw on and an integer step number\n",
        "\n",
        "      See https://www.allendowney.com/blog/2019/07/25/matplotlib-animation-in-jupyter/\n",
        "          for a discussion of the pros and cons of various animation techniques in jupyter notebooks\n",
        "    \"\"\"\n",
        "\n",
        "    def __init__(self, model, frames=50, steps_per_frame=1, figsize=(9, 9)): #frames=50, steps_per_frame=1, figsize=(8, 8)\n",
        "        \"\"\"\n",
        "        :param model: the simulation object to animate, with step() and draw(axes, step) methods\n",
        "        :param frames: number of animation frames to generate\n",
        "        \"\"\"\n",
        "        self.model = model\n",
        "        self.frames = frames\n",
        "        self.steps_per_frame = steps_per_frame\n",
        "        self.fig, self.ax = plt.subplots(figsize=figsize)\n",
        "\n",
        "    def animation_step(self, step):\n",
        "        \"\"\" Step the model forward and draw the plot \"\"\"\n",
        "        if step > 0:\n",
        "            for _ in range(self.steps_per_frame):\n",
        "                self.model.step()\n",
        "        self.model.draw(self.ax, step=step * self.steps_per_frame)\n",
        "\n",
        "    def show(self):\n",
        "        \"\"\" return the matplotlib animation object, ready for display \"\"\"\n",
        "        anim = animation.FuncAnimation(self.fig, self.animation_step, frames=self.frames)\n",
        "        plt.close()  # this ensures the last frame is not shown as a separate plot\n",
        "        return anim\n",
        "\n",
        "    def animate(self, interval=0.4):\n",
        "        \"\"\" Animate the model simulation directly in the notebook display block \"\"\"\n",
        "        from IPython.display import clear_output\n",
        "        try:\n",
        "            for i in range(self.frames):\n",
        "                clear_output(wait=True)  # clear the IPython display\n",
        "                self.ax.clear()  # clear old image from the axes (fixes a performance issue)\n",
        "                plt.figure(self.fig)  # add the figure back to pyplot ** sigh **\n",
        "                self.animation_step(i)\n",
        "                plt.show()  # show the current animation frame (pyplot then closes and throws away figure ** sigh **)\n",
        "                if interval:\n",
        "                    time.sleep(interval)\n",
        "        except KeyboardInterrupt:\n",
        "            pass"
      ],
      "metadata": {
        "id": "-myg3tDjSch0"
      },
      "execution_count": 3,
      "outputs": []
    },
    {
      "cell_type": "code",
      "source": [
        "class Deer:\n",
        "\n",
        "  def __init__(self, location, weight=30, **grid_size):\n",
        "    self.location = tuple(location)\n",
        "    self.weight = weight\n",
        "    self.gridsize= grid_size['grid_size']\n",
        "\n",
        "  def cardinal_neighbors(self):\n",
        "    x = self.location[0]\n",
        "    y = self.location[1]\n",
        "    return [((x-1)%self.gridsize, y), (x, (y+1)%self.gridsize), ((x+1)%self.gridsize, y), (x, (y-1)%self.gridsize)]"
      ],
      "metadata": {
        "id": "dhtd6vmxtzW7"
      },
      "execution_count": 4,
      "outputs": []
    },
    {
      "cell_type": "code",
      "source": [
        "class Grazing_simulation:\n",
        "\n",
        "\n",
        "  cmap = [(1, 0.5, 0), (0, 1, 0)]\n",
        "  grazing_colour_map = matplotlib.colors.ListedColormap(cmap)\n",
        "\n",
        "\n",
        "  def __init__(self, size, coverage, num_deer, regrowth_rate=0.25, max_weight=50, metabolism=10, regrowth_interval=5):\n",
        "      self.size = size\n",
        "      self.coverage = coverage\n",
        "      self.num_deer = num_deer\n",
        "      self.regrowth_rate = regrowth_rate\n",
        "      self.max_weight = max_weight\n",
        "      self.metabolism = metabolism\n",
        "      self.regrowth_interval = regrowth_interval\n",
        "      self.step_count = 0\n",
        "\n",
        "      self.grassland = np.random.choice([1,0], (size,size), p=(coverage, 1-coverage))\n",
        "      self.introduce_deer()\n",
        "\n",
        "  def calculate_weights(self, deer):\n",
        "      weights = []\n",
        "      for neighbor in deer.cardinal_neighbors():\n",
        "          x, y = neighbor\n",
        "          if self.grassland[y][x] == 1:\n",
        "              weight = 1\n",
        "          else:\n",
        "              weight = 0\n",
        "          weights.append(weight)\n",
        "      return weights\n",
        "\n",
        "\n",
        "  def introduce_deer(self):\n",
        "      locs = [(x,y) for x in range(self.size) for y in range(self.size)]\n",
        "      np.random.shuffle(locs)\n",
        "\n",
        "      assert(self.num_deer <= len(locs))\n",
        "      self.deers = [Deer(locs[i], grid_size = self.size) for i in range(self.num_deer)]\n",
        "\n",
        "\n",
        "  def move_deer(self, deer):      \n",
        "    weights = self.calculate_weights(deer)\n",
        "    max_weight = max(weights)\n",
        "    best_neighbors = [i for i, w in enumerate(weights) if w == max_weight]\n",
        "    available_to_move = [(x,y) for i, (x,y) in enumerate(deer.cardinal_neighbors()) if i in best_neighbors and (x,y) not in self.occupied_locations]\n",
        "\n",
        "    if (len(available_to_move) > 0):\n",
        "        self.occupied_locations.remove(deer.location)\n",
        "        deer.location = random.choice(available_to_move)\n",
        "        self.occupied_locations.append(deer.location)\n",
        "    else:\n",
        "        return\n",
        "\n",
        "    x, y = deer.location\n",
        "    if self.grassland[y][x] == 1:\n",
        "        deer.weight += self.metabolism #A POSSIBLE PARAMETER TO CHANGE FOR SUSTAINABILITY EXPERIMENT\n",
        "        self.grassland[y][x] = 0\n",
        "    else:\n",
        "        deer.weight -= self.metabolism * 1.5 #A POSSIBLE PARAMETER TO CHANGE FOR SUSTAINABILITY EXPERIMENT\n",
        "        if deer.weight <= 0:\n",
        "            self.deers.remove(deer)\n",
        "\n",
        "\n",
        "\n",
        "\n",
        "  def step(self):\n",
        "    self.occupied_locations = [deer.location for deer in self.deers]\n",
        "    other_locs = {}\n",
        "\n",
        "    self.step_count += 1\n",
        "    if self.step_count % self.regrowth_interval == 0:\n",
        "      regrowth_mask = np.random.choice([0,1], (self.size,self.size), p=(1-self.regrowth_rate, self.regrowth_rate))\n",
        "      self.grassland = np.clip(self.grassland + regrowth_mask, 0, 1)\n",
        "\n",
        "    for deer in self.deers:\n",
        "      self.move_deer(deer)\n",
        "      xs, ys = deer.location\n",
        "      other_locs.update({(xs,ys):deer.weight})\n",
        "      points = plt.plot(xs, ys, '.', color='brown', markersize=10)\n",
        "    # print(f'weights at each time step: {other_locs}')\n",
        "    # print(\"---------------------------------------------------------------------------------------\")\n",
        "\n",
        "\n",
        "  def draw(self, axes=None, step=''):\n",
        "      \"\"\"Draws the CA cells using the forest colour map so values are coloured intuitively.\"\"\"\n",
        "      axes = axes or plt.axes\n",
        "      title = f'Time:{step}\\nNumber of deer present: {len(self.deers)}'\n",
        "      plot_2D_array(self.grassland, axes=axes, title=title,\n",
        "                    cmap=self.grazing_colour_map, vmin=0, vmax=len(self.grazing_colour_map.colors))\n",
        "      \n",
        "  def run_simulation(self, num_steps):\n",
        "      times = []\n",
        "      for i in range(num_steps):\n",
        "          start_time = timeit.default_timer()\n",
        "          self.step()\n",
        "          end_time = timeit.default_timer()\n",
        "          times.append(end_time - start_time)\n",
        "\n",
        "      return times"
      ],
      "metadata": {
        "id": "zIPGFeOPGkKs"
      },
      "execution_count": 12,
      "outputs": []
    },
    {
      "cell_type": "code",
      "source": [
        "# sim = Grazing_simulation(10, 0.2, 5)\n",
        "\n",
        "# for i in range(5):\n",
        "#     sim.step()\n",
        "\n",
        "    \n",
        "n=100\n",
        "q=0.3\n",
        "num_deer = 300\n",
        "arr = Grazing_simulation(n, q, num_deer)\n",
        "\n",
        "# print(arr.grassland)\n",
        "\n",
        "see = Animation2D(arr)\n",
        "see.animate()\n",
        "# see.show()\n",
        "# arr.step()\n",
        "# see.animate()"
      ],
      "metadata": {
        "colab": {
          "base_uri": "https://localhost:8080/",
          "height": 827
        },
        "id": "48BB1o5TIED6",
        "outputId": "45096165-7fa7-43c1-f329-6a363496d7fd"
      },
      "execution_count": 6,
      "outputs": [
        {
          "output_type": "stream",
          "name": "stdout",
          "text": [
            "weights at each time step: {(27, 25): 285.0, (25, 14): 270.0, (7, 39): 345.0, (7, 21): 285.0, (40, 8): 385.0, (47, 11): 370.0, (6, 82): 360.0, (43, 4): 370.0, (66, 90): 470.0, (76, 15): 310.0, (93, 71): 270.0, (74, 45): 445.0, (16, 61): 395.0, (83, 95): 295.0, (84, 94): 375.0, (50, 97): 320.0, (22, 81): 360.0, (21, 46): 410.0, (30, 9): 410.0, (78, 35): 395.0, (68, 68): 335.0, (63, 71): 270.0, (98, 77): 335.0, (50, 53): 335.0, (11, 0): 310.0, (32, 96): 295.0, (84, 13): 445.0, (66, 50): 460.0, (72, 77): 320.0, (28, 94): 395.0, (69, 10): 235.0, (41, 20): 385.0, (95, 97): 220.0, (67, 38): 445.0, (2, 97): 220.0, (46, 58): 370.0, (29, 57): 270.0, (89, 58): 345.0, (37, 31): 360.0, (18, 17): 410.0, (90, 87): 290.0, (62, 88): 220.0, (20, 97): 345.0, (76, 91): 270.0, (22, 33): 445.0, (22, 62): 295.0, (50, 6): 370.0, (53, 14): 410.0, (84, 54): 260.0, (88, 2): 270.0, (8, 20): 410.0, (1, 87): 170.0, (89, 72): 360.0, (44, 16): 420.0, (64, 8): 420.0, (33, 74): 270.0, (42, 76): 225.0, (45, 93): 395.0, (56, 35): 320.0, (32, 83): 335.0, (43, 18): 445.0, (12, 90): 385.0, (63, 30): 435.0, (86, 86): 395.0, (22, 75): 235.0, (19, 15): 445.0, (42, 56): 335.0, (26, 62): 310.0, (45, 27): 335.0, (4, 83): 245.0, (81, 13): 295.0, (31, 60): 375.0, (13, 63): 370.0, (17, 7): 410.0, (72, 9): 245.0, (60, 5): 360.0, (88, 44): 195.0, (3, 85): 145.0, (20, 38): 185.0, (16, 45): 475.0, (90, 59): 295.0, (55, 93): 385.0, (25, 10): 245.0, (81, 99): 270.0, (38, 52): 20.0, (72, 16): 170.0, (40, 82): 345.0, (98, 98): 335.0, (74, 96): 370.0, (41, 33): 420.0, (43, 66): 245.0, (33, 24): 270.0, (72, 31): 435.0, (79, 82): 445.0, (11, 24): 400.0, (77, 13): 185.0, (60, 71): 295.0, (16, 99): 470.0, (53, 47): 325.0, (64, 90): 270.0, (1, 12): 395.0, (78, 20): 320.0, (28, 40): 170.0, (60, 27): 410.0, (13, 30): 185.0, (37, 25): 295.0, (18, 59): 370.0, (40, 50): 220.0, (93, 78): 285.0, (16, 36): 195.0, (61, 90): 360.0, (56, 18): 415.0, (19, 95): 345.0, (61, 65): 295.0, (83, 32): 370.0, (31, 49): 270.0, (54, 56): 420.0, (91, 80): 250.0, (56, 75): 220.0, (53, 78): 320.0, (9, 21): 245.0, (61, 68): 195.0, (37, 40): 260.0, (42, 68): 335.0, (55, 99): 260.0, (32, 80): 445.0, (76, 59): 345.0, (88, 37): 410.0, (26, 53): 370.0, (10, 71): 370.0, (99, 23): 260.0, (2, 33): 445.0, (86, 99): 110.0, (6, 6): 260.0, (26, 44): 395.0, (24, 38): 385.0, (3, 79): 360.0, (9, 45): 210.0, (86, 18): 370.0, (84, 27): 445.0, (35, 30): 345.0, (6, 51): 485.0, (98, 21): 460.0, (61, 19): 370.0, (11, 73): 320.0, (55, 96): 300.0, (51, 54): 295.0, (34, 68): 295.0, (72, 95): 420.0, (17, 89): 295.0, (88, 48): 370.0, (50, 33): 285.0, (60, 75): 320.0, (21, 8): 320.0, (48, 89): 420.0, (28, 87): 320.0, (93, 36): 485.0, (41, 52): 470.0, (2, 49): 460.0, (55, 3): 470.0, (99, 15): 460.0, (18, 86): 310.0, (95, 90): 295.0, (32, 55): 160.0, (16, 63): 335.0, (95, 70): 445.0, (33, 61): 370.0, (33, 10): 420.0, (11, 33): 445.0, (69, 19): 295.0, (53, 42): 470.0, (69, 28): 295.0, (39, 62): 325.0, (78, 51): 365.0, (92, 38): 395.0, (41, 66): 195.0, (49, 61): 370.0, (41, 5): 210.0, (42, 37): 345.0, (54, 20): 445.0, (16, 31): 145.0, (44, 56): 270.0, (58, 55): 285.0, (37, 74): 320.0, (55, 1): 395.0, (96, 49): 220.0, (92, 98): 320.0, (38, 57): 320.0, (40, 71): 335.0, (38, 75): 420.0, (4, 34): 410.0, (56, 74): 295.0, (54, 24): 370.0, (62, 41): 470.0, (61, 81): 360.0}\n",
            "---------------------------------------------------------------------------------------\n"
          ]
        },
        {
          "output_type": "display_data",
          "data": {
            "text/plain": [
              "<Figure size 900x900 with 1 Axes>"
            ],
            "image/png": "[encoded data removed]"
          },
          "metadata": {}
        }
      ]
    },
    {
      "cell_type": "code",
      "source": [
        "sim = Grazing_simulation(size=50, coverage=0.5, num_deer=10, regrowth_rate=0.25, max_weight=50, metabolism=3, regrowth_interval=5)\n",
        "times = sim.run_simulation(num_steps=100)\n",
        "print(f\"Parameters: size:50, coverage: 50%, n Deer: 10, regrowth: 25%, max deer weight: 50, metabolism: 3, regrowth interval: 5, steps: 100\")\n",
        "print(f\"Mean time per step: {sum(times)/len(times):.6f} seconds\")\n",
        "\n",
        "sim = Grazing_simulation(size=200, coverage=0.7, num_deer=10, regrowth_rate=0.25, max_weight=50, metabolism=3, regrowth_interval=5)\n",
        "times = sim.run_simulation(num_steps=100)\n",
        "print(f\"Parameters: size:50, coverage: 50%, n Deer: 10, regrowth: 25%, max deer weight: 50, metabolism: 3, regrowth interval: 5, steps: 100\")\n",
        "print(f\"Mean time per step: {sum(times)/len(times):.6f} seconds\")\n",
        "\n",
        "sim = Grazing_simulation(size=500, coverage=0.4, num_deer=300, regrowth_rate=0.25, max_weight=50, metabolism=10, regrowth_interval=5)\n",
        "times = sim.run_simulation(num_steps=100)\n",
        "print(f\"Parameters: size:50, coverage: 50%, n Deer: 10, regrowth: 25%, max deer weight: 50, metabolism: 3, regrowth interval: 5, steps: 100\")\n",
        "print(f\"Mean time per step: {sum(times)/len(times):.6f} seconds\")\n",
        "\n",
        "plt.clf() #hide deer plot\n",
        "\n",
        "# CHANGES AND OBSERVATIONS MADE\n",
        "# 1. CHANGE - lines 56 and 59 of the grazing simulation cell to make use of the metabolism parameter since that was a value we wanted to constatly change and measure sustainabilty\n",
        "# 2. OBSERVATION - w/ metabolism at 9, weight gain = metabolism, and weight loss = metabolism * 1.5, steady state was at time step 34 w/ about 229 deer (q=0.35)\n",
        "# 3. OBSERVATION - w/ metabolism at 10, weight gain = metabolism, and weight loss = metabolism * 1.5, steady state was at time step 35 w/ about 219 deer (q=0.35)\n",
        "# 4. OBSERVATION - w/ metabolism at 10, weight gain = metabolism, and weight loss = metabolism * 1.5, steady state was at time step 30 w/ about 194 deer (q=0.3)"
      ],
      "metadata": {
        "id": "u-e0hEiCxloj",
        "outputId": "5dcc98bb-9cf0-404c-c6fb-63e07f850e65",
        "colab": {
          "base_uri": "https://localhost:8080/",
          "height": 136
        }
      },
      "execution_count": 19,
      "outputs": [
        {
          "output_type": "stream",
          "name": "stdout",
          "text": [
            "Parameters: size:50, coverage: 50%, n Deer: 10, regrowth: 25%, max deer weight: 50, metabolism: 3, regrowth interval: 5, steps: 100\n",
            "Mean time per step: 0.012538 seconds\n",
            "Parameters: size:50, coverage: 50%, n Deer: 10, regrowth: 25%, max deer weight: 50, metabolism: 3, regrowth interval: 5, steps: 100\n",
            "Mean time per step: 0.009840 seconds\n",
            "Parameters: size:50, coverage: 50%, n Deer: 10, regrowth: 25%, max deer weight: 50, metabolism: 3, regrowth interval: 5, steps: 100\n",
            "Mean time per step: 0.287107 seconds\n"
          ]
        },
        {
          "output_type": "display_data",
          "data": {
            "text/plain": [
              "<Figure size 640x480 with 0 Axes>"
            ]
          },
          "metadata": {}
        }
      ]
    },
    {
      "cell_type": "markdown",
      "source": [
        "# Experiment Conclusion and Discussion\n",
        "\n",
        "i guess we put our chart and blab about it here lol"
      ],
      "metadata": {
        "id": "Dmw1ZnHvbcgN"
      }
    },
    {
      "cell_type": "markdown",
      "source": [
        "# Algorithm Analysis\n",
        "1. The introduce_deer method has a time complexity of O(n^2) because it loops through all the cells in the grid to create a list of available locations to place the deer, and then shuffles that list before selecting the first m items to create the deer. The step method has a time complexity of O(m\\*n) because it loops through all the deer and their cardinal neighbors to move the deer. This could result in up to a O(n\\*n), should the inputs result in deer occupying every cell (this is an edge case however, not the average case).\n",
        "\n",
        "2. This means that the model will continue to grow exponentially as the size of the CA increases. Thus, it's important to take note of how expensive running this simulation would be for longer CA experiments.\n",
        "\n",
        "3."
      ],
      "metadata": {
        "id": "FsR6cdk6PToz"
      }
    }
  ]
}