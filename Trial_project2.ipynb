{
  "nbformat": 4,
  "nbformat_minor": 0,
  "metadata": {
    "colab": {
      "provenance": [],
      "include_colab_link": true
    },
    "kernelspec": {
      "name": "python3",
      "display_name": "Python 3"
    },
    "language_info": {
      "name": "python"
    }
  },
  "cells": [
    {
      "cell_type": "markdown",
      "metadata": {
        "id": "view-in-github",
        "colab_type": "text"
      },
      "source": [
        "<a href=\"https://colab.research.google.com/github/sir-sauc3/Project2/blob/main/Trial_project2.ipynb\" target=\"_parent\"><img src=\"https://colab.research.google.com/assets/colab-badge.svg\" alt=\"Open In Colab\"/></a>"
      ]
    },
    {
      "cell_type": "code",
      "execution_count": 11,
      "metadata": {
        "id": "iTRxTv9uEn-6"
      },
      "outputs": [],
      "source": [
        "import numpy as np\n",
        "from dataclasses import dataclass\n",
        "from pprint import pprint\n",
        "import random\n",
        "from scipy.signal import correlate2d\n",
        "\n",
        "import time\n",
        "\n",
        "import matplotlib\n",
        "import matplotlib.pyplot as plt\n",
        "from matplotlib import animation\n",
        "import matplotlib.colors as colors"
      ]
    },
    {
      "cell_type": "code",
      "source": [
        "DEFAULT_IMSHOW_OPTIONS = dict(\n",
        "    cmap='Blues',\n",
        "    interpolation='none',\n",
        "    origin='upper',\n",
        ")\n",
        "\n",
        "\n",
        "def plot_2D_array(array, axes=None, title='', **options):\n",
        "    \"\"\" Plot the 2D array as an image on the given axes  1's will be dark blue, 0's will be light blue. \"\"\"\n",
        "    axes = axes or plt.gca()  # If not axes are provided, draw on current axes\n",
        "    axes.set_title(title)\n",
        "    axes.set_xticks([], [])  # remove axes tick marks\n",
        "    axes.set_yticks([], [])\n",
        "    options = {**DEFAULT_IMSHOW_OPTIONS, **options}\n",
        "    axes.imshow(array, **options)"
      ],
      "metadata": {
        "id": "l9uk8kBUSgua"
      },
      "execution_count": 12,
      "outputs": []
    },
    {
      "cell_type": "code",
      "source": [
        "class Animation2D:\n",
        "    \"\"\"\n",
        "      Animates any 2D model with a step() method and a draw() method, using matplotlib\n",
        "      model.step() should take no parameters - just step the model forward one step.\n",
        "      model.draw() should take 2 parameters, the matpltolib axes to draw on and an integer step number\n",
        "\n",
        "      See https://www.allendowney.com/blog/2019/07/25/matplotlib-animation-in-jupyter/\n",
        "          for a discussion of the pros and cons of various animation techniques in jupyter notebooks\n",
        "    \"\"\"\n",
        "\n",
        "    def __init__(self, model, frames=50, steps_per_frame=1, figsize=(9, 9)): #frames=50, steps_per_frame=1, figsize=(8, 8)\n",
        "        \"\"\"\n",
        "        :param model: the simulation object to animate, with step() and draw(axes, step) methods\n",
        "        :param frames: number of animation frames to generate\n",
        "        \"\"\"\n",
        "        self.model = model\n",
        "        self.frames = frames\n",
        "        self.steps_per_frame = steps_per_frame\n",
        "        self.fig, self.ax = plt.subplots(figsize=figsize)\n",
        "\n",
        "    def animation_step(self, step):\n",
        "        \"\"\" Step the model forward and draw the plot \"\"\"\n",
        "        if step > 0:\n",
        "            for _ in range(self.steps_per_frame):\n",
        "                self.model.step()\n",
        "        self.model.draw(self.ax, step=step * self.steps_per_frame)\n",
        "\n",
        "    def show(self):\n",
        "        \"\"\" return the matplotlib animation object, ready for display \"\"\"\n",
        "        anim = animation.FuncAnimation(self.fig, self.animation_step, frames=self.frames)\n",
        "        plt.close()  # this ensures the last frame is not shown as a separate plot\n",
        "        return anim\n",
        "\n",
        "    def animate(self, interval=1.5):\n",
        "        \"\"\" Animate the model simulation directly in the notebook display block \"\"\"\n",
        "        from IPython.display import clear_output\n",
        "        try:\n",
        "            for i in range(self.frames):\n",
        "                clear_output(wait=True)  # clear the IPython display\n",
        "                self.ax.clear()  # clear old image from the axes (fixes a performance issue)\n",
        "                plt.figure(self.fig)  # add the figure back to pyplot ** sigh **\n",
        "                self.animation_step(i)\n",
        "                plt.show()  # show the current animation frame (pyplot then closes and throws away figure ** sigh **)\n",
        "                if interval:\n",
        "                    time.sleep(interval)\n",
        "        except KeyboardInterrupt:\n",
        "            pass"
      ],
      "metadata": {
        "id": "-myg3tDjSch0"
      },
      "execution_count": 13,
      "outputs": []
    },
    {
      "cell_type": "code",
      "source": [
        "class Deer:\n",
        "\n",
        "  def __init__(self, location, weight=30, **grid_size):\n",
        "    self.location = tuple(location)\n",
        "    self.weight = weight\n",
        "    self.gridsize= grid_size['grid_size']\n",
        "\n",
        "  def cardinal_neighbors(self):\n",
        "    x = self.location[0]\n",
        "    y = self.location[1]\n",
        "    return [((x-1)%self.gridsize, y), (x, (y+1)%self.gridsize), ((x+1)%self.gridsize, y), (x, (y-1)%self.gridsize)]"
      ],
      "metadata": {
        "id": "dhtd6vmxtzW7"
      },
      "execution_count": 50,
      "outputs": []
    },
    {
      "cell_type": "code",
      "source": [
        "class Grazing_simulation:\n",
        "\n",
        "\n",
        "  cmap = [(1, 0.5, 0), (0, 1, 0)]\n",
        "  grazing_colour_map = matplotlib.colors.ListedColormap(cmap)\n",
        "\n",
        "\n",
        "  def __init__(self, size, coverage, num_deer, regrowth_rate=0.25, max_weight=50, metabolism=3, regrowth_interval=5):\n",
        "      self.size = size\n",
        "      self.coverage = coverage\n",
        "      self.num_deer = num_deer\n",
        "      self.regrowth_rate = regrowth_rate\n",
        "      self.max_weight = max_weight\n",
        "      self.metabolism = metabolism\n",
        "      self.regrowth_interval = regrowth_interval\n",
        "      self.step_count = 0\n",
        "\n",
        "      self.grassland = np.random.choice([1,0], (size,size), p=(coverage, 1-coverage))\n",
        "      self.introduce_deer()\n",
        "\n",
        "  def calculate_weights(self, deer):\n",
        "      weights = []\n",
        "      for neighbor in deer.cardinal_neighbors():\n",
        "          x, y = neighbor\n",
        "          if self.grassland[y][x] == 1:\n",
        "              weight = 1\n",
        "          else:\n",
        "              weight = 0\n",
        "          weights.append(weight)\n",
        "      return weights\n",
        "\n",
        "\n",
        "  def introduce_deer(self):\n",
        "      locs = [(x,y) for x in range(self.size) for y in range(self.size)]\n",
        "      np.random.shuffle(locs)\n",
        "\n",
        "      assert(self.num_deer <= len(locs))\n",
        "      self.deers = [Deer(locs[i], grid_size = self.size) for i in range(self.num_deer)]\n",
        "\n",
        "\n",
        "  def move_deer(self, deer):      \n",
        "    weights = self.calculate_weights(deer)\n",
        "    max_weight = max(weights)\n",
        "    best_neighbors = [i for i, w in enumerate(weights) if w == max_weight]\n",
        "    available_to_move = [(x,y) for i, (x,y) in enumerate(deer.cardinal_neighbors()) if i in best_neighbors and (x,y) not in self.occupied_locations]\n",
        "\n",
        "    if (len(available_to_move) > 0):\n",
        "        self.occupied_locations.remove(deer.location)\n",
        "        deer.location = random.choice(available_to_move)\n",
        "        self.occupied_locations.append(deer.location)\n",
        "    else:\n",
        "        return\n",
        "\n",
        "    x, y = deer.location\n",
        "    grassland_value = self.grassland[y][x]\n",
        "    if grassland_value == 1:\n",
        "        deer.weight += 5 #A POSSIBLE PARAMETER TO CHANGE FOR SUSTAINABILITY EXPERIMENT\n",
        "        self.grassland[y][x] = 0\n",
        "    else:\n",
        "        deer.weight -= 5 #A POSSIBLE PARAMETER TO CHANGE FOR SUSTAINABILITY EXPERIMENT\n",
        "        if deer.weight <= 0:\n",
        "            self.deers.remove(deer)\n",
        "\n",
        "\n",
        "\n",
        "\n",
        "  def step(self):\n",
        "    self.occupied_locations = [deer.location for deer in self.deers]\n",
        "    other_locs = {}\n",
        "\n",
        "    self.step_count += 1\n",
        "    if self.step_count % self.regrowth_interval == 0:\n",
        "      regrowth_mask = np.random.choice([0,1], (self.size,self.size), p=(1-self.regrowth_rate, self.regrowth_rate))\n",
        "      self.grassland = np.clip(self.grassland + regrowth_mask, 0, 1)\n",
        "\n",
        "    for deer in self.deers:\n",
        "      self.move_deer(deer)\n",
        "      xs, ys = deer.location\n",
        "      other_locs.update({(xs,ys):deer.weight})\n",
        "      points = plt.plot(xs, ys, '.', color='brown', markersize=10)\n",
        "    print(f'weights at each time step: {other_locs}')\n",
        "    print(\"---------------------------------------------------------------------------------------\")\n",
        "\n",
        "\n",
        "  def draw(self, axes=None, step=''):\n",
        "      \"\"\"Draws the CA cells using the forest colour map so values are coloured intuitively.\"\"\"\n",
        "      axes = axes or plt.axes\n",
        "      title = f'Time:{step}\\nNumber of deer present: {len(self.deers)}'\n",
        "      plot_2D_array(self.grassland, axes=axes, title=title,\n",
        "                    cmap=self.grazing_colour_map, vmin=0, vmax=len(self.grazing_colour_map.colors))"
      ],
      "metadata": {
        "id": "zIPGFeOPGkKs"
      },
      "execution_count": 53,
      "outputs": []
    },
    {
      "cell_type": "code",
      "source": [
        "# sim = Grazing_simulation(10, 0.2, 5)\n",
        "\n",
        "# for i in range(5):\n",
        "#     sim.step()\n",
        "\n",
        "    \n",
        "n=100\n",
        "q=0.35\n",
        "num_deer = 300\n",
        "arr = Grazing_simulation(n, q, num_deer)\n",
        "\n",
        "# print(arr.grassland)\n",
        "\n",
        "see = Animation2D(arr)\n",
        "see.animate()\n",
        "# see.show()\n",
        "# arr.step()\n",
        "# see.animate()"
      ],
      "metadata": {
        "colab": {
          "base_uri": "https://localhost:8080/",
          "height": 827
        },
        "id": "48BB1o5TIED6",
        "outputId": "131230c8-b48b-4075-89d0-feec068a6b64"
      },
      "execution_count": 55,
      "outputs": [
        {
          "output_type": "stream",
          "name": "stdout",
          "text": [
            "weights at each time step: {(92, 2): 175, (64, 6): 255, (82, 41): 245, (46, 35): 245, (98, 45): 125, (81, 87): 215, (55, 14): 165, (64, 60): 225, (99, 85): 125, (91, 71): 165, (99, 32): 215, (78, 5): 235, (41, 37): 155, (89, 30): 225, (47, 93): 185, (69, 83): 165, (45, 72): 135, (39, 8): 225, (39, 0): 145, (1, 83): 165, (14, 20): 235, (74, 17): 125, (45, 27): 235, (98, 10): 235, (74, 13): 145, (5, 13): 215, (82, 24): 215, (45, 32): 225, (3, 47): 195, (71, 18): 245, (79, 65): 145, (8, 24): 215, (46, 68): 135, (34, 92): 245, (70, 29): 185, (18, 1): 105, (99, 19): 145, (19, 47): 235, (72, 81): 95, (16, 9): 225, (30, 0): 155, (10, 81): 235, (73, 74): 245, (33, 91): 255, (68, 82): 125, (46, 48): 145, (58, 2): 165, (33, 10): 125, (3, 42): 225, (30, 62): 205, (55, 1): 155, (16, 83): 165, (53, 92): 195, (62, 39): 145, (9, 53): 225, (13, 96): 145, (34, 78): 155, (61, 68): 175, (49, 27): 105, (88, 30): 155, (50, 36): 225, (3, 52): 75, (47, 43): 220, (64, 2): 225, (9, 3): 235, (73, 5): 175, (23, 1): 105, (39, 55): 235, (19, 85): 115, (39, 2): 185, (41, 61): 195, (72, 44): 125, (59, 78): 195, (11, 94): 165, (20, 53): 175, (85, 95): 245, (36, 14): 175, (38, 66): 170, (54, 13): 205, (68, 38): 205, (93, 70): 200, (43, 95): 195, (35, 61): 205, (0, 41): 195, (77, 51): 205, (75, 36): 185, (93, 5): 105, (11, 0): 115, (34, 44): 95, (61, 24): 205, (31, 6): 125, (92, 97): 175, (11, 30): 155, (25, 73): 165, (56, 40): 255, (31, 30): 195, (1, 68): 115, (58, 9): 115, (96, 27): 115, (57, 66): 195, (37, 52): 175, (29, 47): 145, (57, 38): 125, (2, 78): 175, (72, 59): 245, (6, 38): 215, (43, 32): 165, (12, 74): 210, (35, 39): 135, (31, 21): 225, (72, 87): 145, (8, 63): 75, (43, 85): 205, (83, 90): 205, (12, 83): 225, (0, 77): 195, (75, 73): 195, (7, 26): 195, (77, 0): 230, (9, 70): 165, (47, 2): 195, (38, 40): 155, (99, 14): 115, (97, 7): 75, (6, 4): 175, (67, 22): 155, (35, 64): 185, (11, 8): 175, (6, 92): 155, (85, 58): 195, (21, 28): 205, (93, 54): 245, (9, 99): 185, (75, 41): 115, (78, 8): 225, (66, 36): 155, (35, 55): 145, (49, 62): 185, (28, 5): 145, (85, 11): 115, (30, 82): 195, (92, 21): 205, (75, 83): 185, (43, 67): 225, (26, 0): 155, (59, 18): 115, (21, 25): 155, (76, 31): 235, (0, 17): 135, (25, 65): 175, (2, 71): 55, (69, 51): 230, (69, 46): 145, (13, 6): 225, (85, 16): 225, (32, 44): 215, (87, 61): 170, (71, 15): 175, (82, 0): 155, (51, 39): 175, (92, 26): 195, (76, 91): 115, (68, 31): 135, (69, 38): 105, (19, 96): 65, (78, 70): 195, (48, 6): 215, (41, 82): 105, (30, 42): 165, (0, 86): 125, (25, 95): 195, (35, 46): 165, (8, 55): 155, (34, 12): 185, (11, 34): 145, (52, 52): 205, (40, 79): 125, (51, 49): 235, (77, 35): 165, (88, 75): 165, (78, 94): 185, (79, 4): 195, (94, 20): 105, (80, 77): 55, (54, 69): 195, (45, 86): 205, (72, 82): 135, (21, 50): 195, (74, 53): 155, (2, 5): 215, (92, 91): 205, (56, 97): 155, (23, 55): 175, (68, 34): 215, (50, 18): 215, (0, 27): 185, (1, 61): 205, (80, 22): 215, (52, 38): 225, (95, 79): 205, (36, 7): 85, (47, 55): 135, (60, 52): 175, (23, 8): 165, (16, 34): 205, (21, 14): 175, (43, 73): 135, (52, 87): 185, (22, 84): 185, (68, 80): 155, (90, 48): 195, (63, 81): 215, (13, 36): 245, (50, 7): 145, (64, 42): 235, (55, 75): 245, (34, 81): 185, (82, 70): 155, (91, 12): 165, (58, 5): 115, (70, 85): 185, (65, 33): 95, (45, 99): 180, (71, 24): 85, (42, 19): 245, (96, 38): 245, (41, 15): 135, (45, 53): 165, (42, 78): 135, (13, 57): 155, (17, 94): 210, (27, 38): 235, (31, 77): 215, (39, 92): 255, (3, 53): 95, (14, 61): 185, (98, 20): 115, (47, 13): 195, (28, 71): 205, (95, 67): 145, (70, 76): 95, (88, 12): 195, (93, 87): 195, (3, 63): 75, (75, 54): 205, (18, 97): 115, (84, 86): 115, (7, 92): 225, (69, 97): 215, (46, 17): 115, (96, 57): 185, (65, 17): 215, (0, 49): 145, (33, 74): 255, (55, 84): 135, (86, 82): 95, (75, 94): 185, (41, 0): 205, (58, 15): 175, (2, 65): 65, (23, 29): 165, (80, 75): 185, (31, 99): 95, (12, 67): 125, (15, 37): 235, (85, 15): 135, (86, 52): 225, (26, 61): 165, (15, 52): 225, (10, 86): 175, (36, 24): 195, (33, 45): 215, (22, 57): 195, (32, 85): 135, (30, 80): 225, (35, 99): 215, (19, 92): 125, (88, 80): 205, (20, 26): 235, (62, 52): 245, (92, 80): 235, (16, 39): 160, (18, 81): 235, (97, 91): 105, (93, 52): 185, (39, 30): 145, (27, 9): 95, (9, 81): 185, (38, 79): 245, (49, 28): 145, (99, 67): 125, (37, 26): 185}\n",
            "---------------------------------------------------------------------------------------\n"
          ]
        },
        {
          "output_type": "display_data",
          "data": {
            "text/plain": [
              "<Figure size 900x900 with 1 Axes>"
            ],
            "image/png": "[encoded data removed]"
          },
          "metadata": {}
        }
      ]
    },
    {
      "cell_type": "code",
      "source": [
        "#MAKING THE DEER MOVE\n",
        "\n",
        "#####################\n",
        "# 1) get occupied locations (list)\n",
        "# 2) get cardinal neighbors (list)\n",
        "# 3) get cardinal neighbors in (2) that are not in (1). if length of list > 0 delete current position from occupied. else break and stay put\n",
        "# 4) pick random cardinal neighbor in (3) and make it the deer's new position\n",
        "# 5) add (4) to (1)\n",
        "\n",
        "\n",
        "# it would help if we made a cardinal neighbor function in the Deer class\n",
        "\n",
        "\n",
        "# THINGS WE NEED TO WORK ON:\n",
        "# 1. regenerating the vegetation\n",
        "# 2. making the deer 'smart' so they can choose where they should go based on the vegetation around them (Joseph sent me an email about this)\n",
        "#    honestly after running a few simulations it does not seem realistic AT ALL that the entire deer population die in less than half the time \n",
        "#    steps :/ especially with all the vegetated cells still there\n",
        "# "
      ],
      "metadata": {
        "id": "u-e0hEiCxloj"
      },
      "execution_count": 17,
      "outputs": []
    },
    {
      "cell_type": "markdown",
      "source": [
        "# Experiment Conclusion and Discussion\n",
        "\n",
        "i guess we put our chart and blab about it here lol"
      ],
      "metadata": {
        "id": "Dmw1ZnHvbcgN"
      }
    },
    {
      "cell_type": "markdown",
      "source": [
        "# Algorithm Analysis\n",
        "1. The introduce_deer method has a time complexity of O(n^2) because it loops through all the cells in the grid to create a list of available locations to place the deer, and then shuffles that list before selecting the first m items to create the deer. The step method has a time complexity of O(m\\*n) because it loops through all the deer and their cardinal neighbors to move the deer. This could result in up to a O(n\\*n), should the inputs result in deer occupying every cell (this is an edge case however, not the average case).\n",
        "\n",
        "2. This means that the model will continue to grow exponentially as the size of the CA increases. Thus, it's important to take note of how expensive running this simulation would be for longer CA experiments.\n",
        "\n",
        "3."
      ],
      "metadata": {
        "id": "FsR6cdk6PToz"
      }
    }
  ]
}