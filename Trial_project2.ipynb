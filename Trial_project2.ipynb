{
  "nbformat": 4,
  "nbformat_minor": 0,
  "metadata": {
    "colab": {
      "provenance": [],
      "authorship_tag": "ABX9TyOFS/yHgSbdNoFylK3IQfq1",
      "include_colab_link": true
    },
    "kernelspec": {
      "name": "python3",
      "display_name": "Python 3"
    },
    "language_info": {
      "name": "python"
    }
  },
  "cells": [
    {
      "cell_type": "markdown",
      "metadata": {
        "id": "view-in-github",
        "colab_type": "text"
      },
      "source": [
        "<a href=\"https://colab.research.google.com/github/sir-sauc3/Project2/blob/main/Trial_project2.ipynb\" target=\"_parent\"><img src=\"https://colab.research.google.com/assets/colab-badge.svg\" alt=\"Open In Colab\"/></a>"
      ]
    },
    {
      "cell_type": "code",
      "execution_count": 97,
      "metadata": {
        "id": "iTRxTv9uEn-6"
      },
      "outputs": [],
      "source": [
        "import numpy as np\n",
        "from dataclasses import dataclass\n",
        "from pprint import pprint\n",
        "import random\n",
        "from scipy.signal import correlate2d\n",
        "\n",
        "import time\n",
        "\n",
        "import matplotlib\n",
        "import matplotlib.pyplot as plt\n",
        "from matplotlib import animation"
      ]
    },
    {
      "cell_type": "code",
      "source": [
        "# class Deer:\n",
        "  \n",
        "#   def __init__(self, loc):\n",
        "#     self.loc = tuple(loc)\n",
        "\n",
        "#     weight = 20\n",
        "#     max_weight = 60\n",
        "#     metabolism = 5\n",
        "\n",
        "  \n",
        "#   def step():\n",
        "#     #make a random cardinal movement\n",
        "#     #graze if grass is there\n",
        "#     #increase weight if deer grazed or decrease weight if deer didnt graze\n",
        "#     return\n",
        "\n",
        "\n",
        "def random_walk(n):\n",
        "  x,y = 0,0\n",
        "\n",
        "  for i in range(n):\n",
        "    dx, dy = random.choice([(1,0), (-1,0), (0,1), (0,-1)])\n",
        "    x+=dx\n",
        "    y+=dy\n",
        "\n",
        "  return((x, y))\n",
        "\n",
        "\n",
        "for i in range(10):\n",
        "  test = random_walk(15)\n",
        "  print(f'abs coordinate positions are: {test}')"
      ],
      "metadata": {
        "colab": {
          "base_uri": "https://localhost:8080/"
        },
        "id": "6VDmOBuvE_Px",
        "outputId": "a65e0381-a88a-49e6-f559-5bfff9e37d4c"
      },
      "execution_count": 98,
      "outputs": [
        {
          "output_type": "stream",
          "name": "stdout",
          "text": [
            "abs coordinate positions are: (2, -1)\n",
            "abs coordinate positions are: (0, 1)\n",
            "abs coordinate positions are: (-1, 4)\n",
            "abs coordinate positions are: (-3, 0)\n",
            "abs coordinate positions are: (1, 0)\n",
            "abs coordinate positions are: (-3, 0)\n",
            "abs coordinate positions are: (-1, 0)\n",
            "abs coordinate positions are: (3, -2)\n",
            "abs coordinate positions are: (3, 2)\n",
            "abs coordinate positions are: (-2, 3)\n"
          ]
        }
      ]
    },
    {
      "cell_type": "code",
      "source": [
        "import numpy as np\n",
        "import matplotlib.pyplot as plt\n",
        "\n",
        "# Create two NumPy arrays of the same size\n",
        "arr1 = np.random.rand(3, 3)\n",
        "arr2 = np.random.rand(3, 3)\n",
        "\n",
        "# Display the arrays over each other using imshow\n",
        "fig, ax = plt.subplots()\n",
        "ax.imshow(arr1, cmap='Blues', alpha=0.5)\n",
        "ax.imshow(arr2, cmap='Reds', alpha=0.5)\n",
        "plt.show()"
      ],
      "metadata": {
        "colab": {
          "base_uri": "https://localhost:8080/",
          "height": 434
        },
        "id": "aggbb3orq5JH",
        "outputId": "866dde07-1b6c-40e5-a640-3463bf355f87"
      },
      "execution_count": 99,
      "outputs": [
        {
          "output_type": "display_data",
          "data": {
            "text/plain": [
              "<Figure size 640x480 with 1 Axes>"
            ],
            "image/png": "[encoded data removed]"
          },
          "metadata": {}
        }
      ]
    },
    {
      "cell_type": "code",
      "source": [
        "import numpy as np\n",
        "import matplotlib.pyplot as plt\n",
        "\n",
        "# Create a 3x3 NumPy array with random values\n",
        "arr = np.random.rand(3, 3)\n",
        "\n",
        "print(arr)\n",
        "# Display the array using a custom colormap\n",
        "fig, ax = plt.subplots()\n",
        "im = ax.imshow(arr, cmap='coolwarm', vmin=0.5, vmax=1.2)\n",
        "\n",
        "# Add a colorbar to show the mapping of values to colors\n",
        "cbar = ax.figure.colorbar(im, ax=ax)\n",
        "\n",
        "# Show the plot\n",
        "plt.show()"
      ],
      "metadata": {
        "colab": {
          "base_uri": "https://localhost:8080/",
          "height": 483
        },
        "id": "evgncbItrxPn",
        "outputId": "04b6ebb9-ffab-47ae-b5a1-c53dbc37fdfd"
      },
      "execution_count": 100,
      "outputs": [
        {
          "output_type": "stream",
          "name": "stdout",
          "text": [
            "[[0.72353175 0.36213463 0.22605326]\n",
            " [0.87198622 0.12714589 0.51188548]\n",
            " [0.89915842 0.9219417  0.43906965]]\n"
          ]
        },
        {
          "output_type": "display_data",
          "data": {
            "text/plain": [
              "<Figure size 640x480 with 2 Axes>"
            ],
            "image/png": "[encoded data removed]"
          },
          "metadata": {}
        }
      ]
    },
    {
      "cell_type": "code",
      "source": [
        "import numpy as np\n",
        "\n",
        "arr = np.random.uniform(low=-1, high=2, size=(3, 3))\n",
        "\n",
        "print(arr)\n",
        "fig, ax = plt.subplots()\n",
        "im = ax.imshow(arr, cmap='coolwarm', vmin=-0.5, vmax=1.5)\n",
        "\n",
        "# Add a colorbar to show the mapping of values to colors\n",
        "cbar = ax.figure.colorbar(im, ax=ax)\n",
        "\n",
        "# Show the plot\n",
        "plt.show()"
      ],
      "metadata": {
        "colab": {
          "base_uri": "https://localhost:8080/",
          "height": 483
        },
        "id": "QHgdhlQishRU",
        "outputId": "55a931fe-e1c0-43a8-dcdb-633df7510220"
      },
      "execution_count": 101,
      "outputs": [
        {
          "output_type": "stream",
          "name": "stdout",
          "text": [
            "[[ 0.27342729 -0.02932217  1.57515195]\n",
            " [ 0.53989721  1.14028014  1.28646134]\n",
            " [-0.86448318 -0.34486066 -0.33121978]]\n"
          ]
        },
        {
          "output_type": "display_data",
          "data": {
            "text/plain": [
              "<Figure size 640x480 with 2 Axes>"
            ],
            "image/png": "[encoded data removed]"
          },
          "metadata": {}
        }
      ]
    },
    {
      "cell_type": "code",
      "source": [
        "class Grazing_sim:\n",
        "\n",
        "  kernel = np.array([[0, 1, 0],\n",
        "                     [1, 0, 1],\n",
        "                     [0, 1, 0]])\n",
        "\n",
        "  def __init__(self, size, deer_amt, q):\n",
        "    self.size = size\n",
        "    self.deer_amt = deer_amt\n",
        "    self.q = q\n",
        "    self.one = np.random.choice([1, 0], (self.size,self.size), p=(q, 1-q))\n",
        "    two = np.random.choice(self.size**2, size=deer_amt, replace=False)\n",
        "    x, y = np.unravel_index(two, (self.size, self.size))\n",
        "    two = np.zeros((self.size,self.size))\n",
        "    two[x,y] = 3\n",
        "\n",
        "    # print(self.one)\n",
        "    # correlated_matrix = correlate2d(self.one, self.kernel, mode='same', boundary='wrap')\n",
        "    # print('\\n')\n",
        "    # print(correlated_matrix)\n",
        "\n",
        "    self.three = np.where(two==3, two, self.one).astype(int)\n",
        "    # print(self.three)\n",
        "\n",
        "\n",
        "  def draw(self):\n",
        "    fig, ax = plt.subplots()\n",
        "    cmap = [(225/225, 248/255, 220/255),(0,1,0),(0,0,0),(165/255, 42/255, 42/255)]\n",
        "    field_color_map = matplotlib.colors.ListedColormap(cmap)\n",
        "    ax.imshow(self.three, cmap=field_color_map, vmin=0, vmax=3)\n",
        "\n",
        "    # title = f'Time:{step}'\n",
        "    ax.axis('off')\n",
        "    plt.show()\n",
        "\n",
        "# print(one)\n",
        "# print(two)\n",
        "\n",
        "# deer_loc = two==3\n",
        "# print(deer_loc)\n"
      ],
      "metadata": {
        "id": "IZMhi3JPGJdB"
      },
      "execution_count": 133,
      "outputs": []
    },
    {
      "cell_type": "code",
      "source": [
        "q = 0.5\n",
        "size = 3\n",
        "deer_amt = 2\n",
        "\n",
        "test = Grazing_sim(size, deer_amt, q)\n",
        "\n",
        "loc = test.three[test.three==3]\n",
        "# print(loc)\n",
        "\n",
        "# coord = [position.location for position in loc]\n",
        "test.draw()"
      ],
      "metadata": {
        "colab": {
          "base_uri": "https://localhost:8080/",
          "height": 405
        },
        "id": "vJ3SDwMf7pp6",
        "outputId": "d225745a-f2aa-4cc7-e3a7-72a5eb980ca1"
      },
      "execution_count": 148,
      "outputs": [
        {
          "output_type": "display_data",
          "data": {
            "text/plain": [
              "<Figure size 640x480 with 1 Axes>"
            ],
            "image/png": "[encoded data removed]"
          },
          "metadata": {}
        }
      ]
    },
    {
      "cell_type": "code",
      "source": [
        "import numpy as np\n",
        "from scipy.signal import correlate2d\n",
        "\n",
        "# Define your kernel k here\n",
        "k = np.array([[0, 1, 0],\n",
        "              [1, 0, 1],\n",
        "              [0, 1, 0]])\n",
        "\n",
        "q = 0.3\n",
        "size = 5\n",
        "num = 3\n",
        "M = np.random.choice([0,1], (size,size), p=(q, 1-q))\n",
        "two = np.random.choice(size**2, size=3, replace=False)\n",
        "print(two)\n",
        "(x, y) = np.unravel_index(two, (size, size))\n",
        "# occ_loc = [(x,y) for x,y in np.unravel_index(two, (size, size))]\n",
        "two = np.zeros((size,size))\n",
        "print(x,y)\n",
        "for xy in zip(x,y):\n",
        "  print(xy)\n",
        "two[x,y] = 3\n",
        "print(two)\n",
        "three = np.where(two==3, two, M).astype(int)\n",
        "\n",
        "# Calculate the correlated matrix C\n",
        "C = correlate2d(M, k, mode='same', boundary='wrap')\n",
        "# correlate2d(self.one, self.kernel, mode='same', boundary='wrap')\n",
        "\n",
        "# Define a function to get the highest value neighbor given a cell index\n",
        "def get_highest_neighbor(cell_idx):\n",
        "    i, j = cell_idx\n",
        "    neighbors = [(i-1, j), (i+1, j), (i, j-1), (i, j+1)] # cardinal neighbors\n",
        "    neighbor_values = [C[n] for n in neighbors if (0 <= n[0] < C.shape[0]) and (0 <= n[1] < C.shape[1])] # get neighbor values\n",
        "    if len(neighbor_values) > 0:\n",
        "        highest_neighbor = neighbors[np.argmax(neighbor_values)]\n",
        "    else:\n",
        "        highest_neighbor = cell_idx # stay put if no neighbors\n",
        "    return highest_neighbor\n",
        "\n",
        "# Move agents based on highest value neighbor\n",
        "# for agent in A:\n",
        "#     current_location = agent.location\n",
        "#     highest_neighbor = get_highest_neighbor(current_location)\n",
        "#     agent.move_to(highest_neighbor)\n",
        "\n"
      ],
      "metadata": {
        "colab": {
          "base_uri": "https://localhost:8080/"
        },
        "id": "DAPdeVzXSlqz",
        "outputId": "259c2fac-e9c8-46b7-ff15-fc99493d4580"
      },
      "execution_count": 127,
      "outputs": [
        {
          "output_type": "stream",
          "name": "stdout",
          "text": [
            "[12  5 13]\n",
            "[2 1 2] [2 0 3]\n",
            "(2, 2)\n",
            "(1, 0)\n",
            "(2, 3)\n",
            "[[0. 0. 0. 0. 0.]\n",
            " [3. 0. 0. 0. 0.]\n",
            " [0. 0. 3. 3. 0.]\n",
            " [0. 0. 0. 0. 0.]\n",
            " [0. 0. 0. 0. 0.]]\n"
          ]
        }
      ]
    },
    {
      "cell_type": "code",
      "source": [
        "print('field\\n')\n",
        "print(M)\n",
        "print('\\n\\nfield with deer\\n')\n",
        "print(three)\n",
        "print('\\n\\ncorrelated field\\n')\n",
        "print(C)\n",
        "\n",
        "unoccupied = three<3\n",
        "print('\\n\\ncells with no deer\\n')\n",
        "print(unoccupied)\n",
        "print('\\n')\n",
        "\n",
        "\n",
        "i=2\n",
        "j=2\n",
        "\n",
        "\n",
        "print(f'the value of C[{i},{j}] is {C[i,j]}\\n')\n",
        "\n",
        "\n",
        "neighbors = [(i-1, j), (i, j+1), (i+1, j), (i, j-1)] #up, right, down, left\n",
        "neighbor_values = [C[n] for n in neighbors if (0 <= n[0] < C.shape[0]) and (0 <= n[1] < C.shape[1])]\n",
        "neighbor_values = [\n",
        "                   C[n] if (n[0] < C.shape[0] and n[1] < C.shape[1])\n",
        "                   else C[0, n[1]] if (n[0] >= C.shape[0])\n",
        "                   else C[n[0], 0] if (n[1] >= C.shape[1])\n",
        "                   else 0\n",
        "                   for n in neighbors]\n",
        "\n",
        "\n",
        "\n",
        "print(f'The neighbor values of i={i} and j={j} are {neighbor_values}\\nAnd the index of the highest neighbor is {np.argmax(neighbor_values)}')\n",
        "\n",
        "# for ji in neighbors:\n",
        "#   print(f'ji[0] = {ji[0]}\\tji[1] = {ji[1]}\\tC.shape[0] = {C.shape[0]}\\tC.shape[1] = {C.shape[1]}')\n",
        "#   print(ji[0] < C.shape[0] and ji[1] < C.shape[1])\n",
        "# print(C.shape)\n",
        "\n",
        "# (y,x) = np.where(M == 1)\n",
        "\n",
        "# print(y,x)\n",
        "\n",
        "# print(get_highest_neighbor((3,1)))"
      ],
      "metadata": {
        "colab": {
          "base_uri": "https://localhost:8080/"
        },
        "id": "jmGZLiSVWh_a",
        "outputId": "169cdf76-f95b-4933-971d-790e42a35929"
      },
      "execution_count": 149,
      "outputs": [
        {
          "output_type": "stream",
          "name": "stdout",
          "text": [
            "field\n",
            "\n",
            "[[1 1 1 1 1]\n",
            " [0 0 0 1 1]\n",
            " [0 0 1 1 0]\n",
            " [1 1 1 1 1]\n",
            " [0 0 1 0 1]]\n",
            "\n",
            "\n",
            "field with deer\n",
            "\n",
            "[[1 1 1 1 1]\n",
            " [3 0 0 1 1]\n",
            " [0 0 3 3 0]\n",
            " [1 1 1 1 1]\n",
            " [0 0 1 0 1]]\n",
            "\n",
            "\n",
            "correlated field\n",
            "\n",
            "[[2 2 3 3 4]\n",
            " [2 1 3 3 2]\n",
            " [1 2 2 3 3]\n",
            " [2 2 4 3 3]\n",
            " [3 3 2 4 2]]\n",
            "\n",
            "\n",
            "cells with no deer\n",
            "\n",
            "[[ True  True  True  True  True]\n",
            " [False  True  True  True  True]\n",
            " [ True  True False False  True]\n",
            " [ True  True  True  True  True]\n",
            " [ True  True  True  True  True]]\n",
            "\n",
            "\n",
            "the value of C[2,2] is 2\n",
            "\n",
            "The neighbor values of i=2 and j=2 are [3, 3, 4, 2]\n",
            "And the index of the highest neighbor is 2\n"
          ]
        }
      ]
    },
    {
      "cell_type": "code",
      "source": [
        "'''\n",
        "Probably want to use a kernel to tell the value of the neighboring cells\n",
        "When a deer 'sees' that theres's a cell with a value of 1, it moves there\n",
        "\n",
        "choosinng a cell to move to\n",
        "1. make a chek_if_occupied_neighborhood function that checks if there are other deer in its cardinal neighbors\n",
        "'''"
      ],
      "metadata": {
        "colab": {
          "base_uri": "https://localhost:8080/",
          "height": 67
        },
        "id": "6JKHHhna50yo",
        "outputId": "b3719a71-c371-428e-ab7a-8ea191324531"
      },
      "execution_count": 106,
      "outputs": [
        {
          "output_type": "execute_result",
          "data": {
            "text/plain": [
              "\"\\nProbably want to use a kernel to tell the value of the neighboring cells\\nWhen a deer 'sees' that theres's a cell with a value of 1, it moves there\\n\\nchoosinng a cell to move to\\n1. make a chek_if_occupied_neighborhood function that checks if there are other deer in its cardinal neighbors\\n\""
            ],
            "application/vnd.google.colaboratory.intrinsic+json": {
              "type": "string"
            }
          },
          "metadata": {},
          "execution_count": 106
        }
      ]
    },
    {
      "cell_type": "code",
      "source": [
        "import numpy as np\n",
        "\n",
        "def move_to(current_pos, C, occupied_cells):\n",
        "    # Get neighboring cells of current position\n",
        "    neighbors = [(current_pos[0]+i, current_pos[1]+j) \n",
        "                  if (current_pos[0]+i < C.shape[0]) and (current_pos[1]+j < C.shape[1])\n",
        "                  else C[0, current_pos[1]+j] if (current_pos[0]+i >= C.shape[0])\n",
        "                  else C[current_pos[1]+i, 0] if (current_pos[1]+j >= C.shape[1])\n",
        "                  else 0\n",
        "                  for i in [-1, 1] for j in [-1, 1] \n",
        "                 ]\n",
        "\n",
        "\n",
        "    \n",
        "    # Remove occupied cells from list of available neighbors\n",
        "    available_neighbors = [n for n in neighbors if n not in occupied_cells]\n",
        "    \n",
        "    # If all neighbors are occupied, stay in current position\n",
        "    if len(available_neighbors) == 0:\n",
        "        return current_pos\n",
        "    \n",
        "    # Calculate values of neighboring cells in correlated matrix\n",
        "    neighbor_values = [C[n] for n in available_neighbors if (0 <= n[0] < C.shape[0]) and (0 <= n[1] < C.shape[1])]\n",
        "    \n",
        "    # Get index of neighboring cell with highest value\n",
        "    best_neighbor_index = np.argmax(neighbor_values)\n",
        "    \n",
        "    # Choose the best neighboring cell to move to\n",
        "    best_neighbor = available_neighbors[best_neighbor_index]\n",
        "    \n",
        "    return best_neighbor\n"
      ],
      "metadata": {
        "id": "GYlOpIxqTe-g"
      },
      "execution_count": 119,
      "outputs": []
    },
    {
      "cell_type": "code",
      "source": [
        "import numpy as np\n",
        "\n",
        "# Create the first array with 0s and 1s\n",
        "arr1 = np.array([[1, 0, 1],\n",
        "                 [0, 1, 0],\n",
        "                 [1, 1, 0]])\n",
        "\n",
        "# Create the second array with 0s and 3s\n",
        "arr2 = np.array([[0, 0, 0],\n",
        "                 [3, 3, 0],\n",
        "                 [0, 0, 3]])\n",
        "\n",
        "# Create the third array by combining the first and second arrays\n",
        "arr3 = np.where(arr2 == 3, arr2, arr1)\n",
        "\n",
        "# Print the arrays to check the result\n",
        "print(\"Array 1:\\n\", arr1)\n",
        "print(\"Array 2:\\n\", arr2)\n",
        "print(\"Array 3:\\n\", arr3)"
      ],
      "metadata": {
        "colab": {
          "base_uri": "https://localhost:8080/"
        },
        "id": "wVw0VzSdOBqj",
        "outputId": "0c5a9935-a52d-4ae1-a4b3-638732fa63df"
      },
      "execution_count": 107,
      "outputs": [
        {
          "output_type": "stream",
          "name": "stdout",
          "text": [
            "Array 1:\n",
            " [[1 0 1]\n",
            " [0 1 0]\n",
            " [1 1 0]]\n",
            "Array 2:\n",
            " [[0 0 0]\n",
            " [3 3 0]\n",
            " [0 0 3]]\n",
            "Array 3:\n",
            " [[1 0 1]\n",
            " [3 3 0]\n",
            " [1 1 3]]\n"
          ]
        }
      ]
    }
  ]
}