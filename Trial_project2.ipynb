{
  "nbformat": 4,
  "nbformat_minor": 0,
  "metadata": {
    "colab": {
      "provenance": [],
      "authorship_tag": "ABX9TyPNsovYV2K95GyZaDPLt93j",
      "include_colab_link": true
    },
    "kernelspec": {
      "name": "python3",
      "display_name": "Python 3"
    },
    "language_info": {
      "name": "python"
    }
  },
  "cells": [
    {
      "cell_type": "markdown",
      "metadata": {
        "id": "view-in-github",
        "colab_type": "text"
      },
      "source": [
        "<a href=\"https://colab.research.google.com/github/sir-sauc3/Project2/blob/main/Trial_project2.ipynb\" target=\"_parent\"><img src=\"https://colab.research.google.com/assets/colab-badge.svg\" alt=\"Open In Colab\"/></a>"
      ]
    },
    {
      "cell_type": "code",
      "execution_count": 1,
      "metadata": {
        "id": "iTRxTv9uEn-6"
      },
      "outputs": [],
      "source": [
        "import numpy as np\n",
        "from dataclasses import dataclass\n",
        "from pprint import pprint\n",
        "import random\n",
        "from scipy.signal import correlate2d\n",
        "\n",
        "import time\n",
        "\n",
        "import matplotlib\n",
        "import matplotlib.pyplot as plt\n",
        "from matplotlib import animation\n",
        "import matplotlib.colors as colors"
      ]
    },
    {
      "cell_type": "code",
      "source": [
        "# t = [(i,i) for i in range(3) for i in range(3)]\n",
        "# print(t)\n",
        "# array = np.array(t)\n",
        "# print(array)\n",
        "# np.random.shuffle(array)\n",
        "# print(array)"
      ],
      "metadata": {
        "id": "voTIjKk8PznG"
      },
      "execution_count": 2,
      "outputs": []
    },
    {
      "cell_type": "code",
      "source": [
        "DEFAULT_IMSHOW_OPTIONS = dict(\n",
        "    cmap='Blues',\n",
        "    interpolation='none',\n",
        "    origin='upper',\n",
        ")\n",
        "\n",
        "\n",
        "def plot_2D_array(array, axes=None, title='', **options):\n",
        "    \"\"\" Plot the 2D array as an image on the given axes  1's will be dark blue, 0's will be light blue. \"\"\"\n",
        "    axes = axes or plt.gca()  # If not axes are provided, draw on current axes\n",
        "    axes.set_title(title)\n",
        "    axes.set_xticks([], [])  # remove axes tick marks\n",
        "    axes.set_yticks([], [])\n",
        "    options = {**DEFAULT_IMSHOW_OPTIONS, **options}\n",
        "    axes.imshow(array, **options)"
      ],
      "metadata": {
        "id": "PGcJ-ThV2Rrk"
      },
      "execution_count": 3,
      "outputs": []
    },
    {
      "cell_type": "code",
      "source": [
        "class Animation2D:\n",
        "    \"\"\"\n",
        "      Animates any 2D model with a step() method and a draw() method, using matplotlib\n",
        "      model.step() should take no parameters - just step the model forward one step.\n",
        "      model.draw() should take 2 parameters, the matpltolib axes to draw on and an integer step number\n",
        "\n",
        "      See https://www.allendowney.com/blog/2019/07/25/matplotlib-animation-in-jupyter/\n",
        "          for a discussion of the pros and cons of various animation techniques in jupyter notebooks\n",
        "    \"\"\"\n",
        "\n",
        "    def __init__(self, model, frames=100, steps_per_frame=1, figsize=(10, 10)):\n",
        "        \"\"\"\n",
        "        :param model: the simulation object to animate, with step() and draw(axes, step) methods\n",
        "        :param frames: number of animation frames to generate\n",
        "        \"\"\"\n",
        "        self.model = model\n",
        "        self.frames = frames\n",
        "        self.steps_per_frame = steps_per_frame\n",
        "        self.fig, self.ax = plt.subplots(figsize=figsize)\n",
        "\n",
        "    def animation_step(self, step):\n",
        "        \"\"\" Step the model forward and draw the plot \"\"\"\n",
        "        if step > 0:\n",
        "            for _ in range(self.steps_per_frame):\n",
        "                self.model.step()\n",
        "        self.model.draw(self.ax, step=step * self.steps_per_frame)\n",
        "\n",
        "    def show(self):\n",
        "        \"\"\" return the matplotlib animation object, ready for display \"\"\"\n",
        "        anim = animation.FuncAnimation(self.fig, self.animation_step, frames=self.frames)\n",
        "        plt.close()  # this ensures the last frame is not shown as a separate plot\n",
        "        return anim\n",
        "\n",
        "    def animate(self, interval=None):\n",
        "        \"\"\" Animate the model simulation directly in the notebook display block \"\"\"\n",
        "        from IPython.display import clear_output\n",
        "        try:\n",
        "            for i in range(self.frames):\n",
        "                clear_output(wait=True)  # clear the IPython display\n",
        "                self.ax.clear()          # clear old image from the axes (fixes a performance issue)\n",
        "                plt.figure(self.fig)     # add the figure back to pyplot ** sigh **\n",
        "                self.animation_step(i)\n",
        "                plt.show()               # show the current animation frame (pyplot then closes and throws away figure ** sigh **)\n",
        "                if interval:\n",
        "                    time.sleep(interval)\n",
        "        except KeyboardInterrupt:\n",
        "            pass"
      ],
      "metadata": {
        "id": "DcW_3HP7yylD"
      },
      "execution_count": 4,
      "outputs": []
    },
    {
      "cell_type": "code",
      "source": [
        "class Deer:\n",
        "  \n",
        "  def __init__(self, loc):\n",
        "    \n",
        "    self.loc = tuple(loc)\n",
        "\n",
        "    weight = 20\n",
        "    max_weight = 60\n",
        "    metabolism = 5\n",
        "\n",
        "  \n",
        "  def step():\n",
        "    #make a random cardinal movement\n",
        "    #graze if grass is there\n",
        "    #increase weight if deer grazed or decrease weight if deer didnt graze\n",
        "    return\n",
        "\n",
        "\n",
        "def random_walk(n):\n",
        "  x,y = 0,0\n",
        "\n",
        "  for i in range(n):\n",
        "    dx, dy = random.choice([(1,0), (-1,0), (0,1), (0,-1)])\n",
        "    x+=dx\n",
        "    y+=dy\n",
        "\n",
        "  return((x, y))"
      ],
      "metadata": {
        "id": "6VDmOBuvE_Px"
      },
      "execution_count": 5,
      "outputs": []
    },
    {
      "cell_type": "code",
      "source": [
        "import numpy as np\n",
        "import matplotlib.pyplot as plt\n",
        "\n",
        "# Create two NumPy arrays of the same size\n",
        "arr1 = np.random.rand(3, 3)\n",
        "arr2 = np.random.rand(3, 3)\n",
        "\n",
        "# Display the arrays over each other using imshow\n",
        "fig, ax = plt.subplots()\n",
        "ax.imshow(arr1, cmap='Blues', alpha=0.5)\n",
        "ax.imshow(arr2, cmap='Reds', alpha=0.5)\n",
        "plt.show()"
      ],
      "metadata": {
        "colab": {
          "base_uri": "https://localhost:8080/",
          "height": 434
        },
        "id": "aggbb3orq5JH",
        "outputId": "b537a4ae-0859-46a1-8938-f0fd1f9df69f"
      },
      "execution_count": 6,
      "outputs": [
        {
          "output_type": "display_data",
          "data": {
            "text/plain": [
              "<Figure size 640x480 with 1 Axes>"
            ],
            "image/png": "[encoded data removed]"
          },
          "metadata": {}
        }
      ]
    },
    {
      "cell_type": "code",
      "source": [
        "import numpy as np\n",
        "import matplotlib.pyplot as plt\n",
        "\n",
        "# Create a 3x3 NumPy array with random values\n",
        "arr = np.random.rand(3, 3)\n",
        "\n",
        "print(arr)\n",
        "# Display the array using a custom colormap\n",
        "fig, ax = plt.subplots()\n",
        "im = ax.imshow(arr, cmap='coolwarm', vmin=0.5, vmax=1.2)\n",
        "\n",
        "# Add a colorbar to show the mapping of values to colors\n",
        "cbar = ax.figure.colorbar(im, ax=ax)\n",
        "\n",
        "# Show the plot\n",
        "plt.show()"
      ],
      "metadata": {
        "colab": {
          "base_uri": "https://localhost:8080/",
          "height": 483
        },
        "id": "evgncbItrxPn",
        "outputId": "27c6c89d-5415-4998-88f8-3d55c9e23be3"
      },
      "execution_count": 7,
      "outputs": [
        {
          "output_type": "stream",
          "name": "stdout",
          "text": [
            "[[0.0099584  0.01489702 0.86471878]\n",
            " [0.96072434 0.40819824 0.89690478]\n",
            " [0.05605994 0.64283669 0.04302788]]\n"
          ]
        },
        {
          "output_type": "display_data",
          "data": {
            "text/plain": [
              "<Figure size 640x480 with 2 Axes>"
            ],
            "image/png": "[encoded data removed]"
          },
          "metadata": {}
        }
      ]
    },
    {
      "cell_type": "code",
      "source": [
        "import numpy as np\n",
        "\n",
        "arr = np.random.uniform(low=-1, high=2, size=(3, 3))\n",
        "\n",
        "print(arr)\n",
        "fig, ax = plt.subplots()\n",
        "im = ax.imshow(arr, cmap='coolwarm', vmin=-0.5, vmax=1.5)\n",
        "\n",
        "# Add a colorbar to show the mapping of values to colors\n",
        "cbar = ax.figure.colorbar(im, ax=ax)\n",
        "\n",
        "# Show the plot\n",
        "plt.show()"
      ],
      "metadata": {
        "colab": {
          "base_uri": "https://localhost:8080/",
          "height": 483
        },
        "id": "QHgdhlQishRU",
        "outputId": "bf8f9609-69c4-4b31-8b8c-9fbb44a0bd8c"
      },
      "execution_count": 8,
      "outputs": [
        {
          "output_type": "stream",
          "name": "stdout",
          "text": [
            "[[-0.50459503 -0.98303102  0.56172062]\n",
            " [-0.26835924  0.83618552 -0.36531598]\n",
            " [ 0.90406036  0.56012935  1.65305246]]\n"
          ]
        },
        {
          "output_type": "display_data",
          "data": {
            "text/plain": [
              "<Figure size 640x480 with 2 Axes>"
            ],
            "image/png": "[encoded data removed]"
          },
          "metadata": {}
        }
      ]
    },
    {
      "cell_type": "code",
      "source": [
        "DEFAULT_IMSHOW_OPTIONS = dict(\n",
        "    cmap='Blues',\n",
        "    interpolation='none',\n",
        "    origin='upper',\n",
        ")\n",
        "\n",
        "\n",
        "def plot_2D_array(array, axes=None, title='', **options):\n",
        "    \"\"\" Plot the 2D array as an image on the given axes  1's will be dark blue, 0's will be light blue. \"\"\"\n",
        "    axes = axes or plt.gca()  # If not axes are provided, draw on current axes\n",
        "    axes.set_title(title)\n",
        "    axes.set_xticks([], [])  # remove axes tick marks\n",
        "    axes.set_yticks([], [])\n",
        "    options = {**DEFAULT_IMSHOW_OPTIONS, **options}\n",
        "    axes.imshow(array, **options)"
      ],
      "metadata": {
        "id": "l9uk8kBUSgua"
      },
      "execution_count": 43,
      "outputs": []
    },
    {
      "cell_type": "code",
      "source": [
        "class Animation2D:\n",
        "    \"\"\"\n",
        "      Animates any 2D model with a step() method and a draw() method, using matplotlib\n",
        "      model.step() should take no parameters - just step the model forward one step.\n",
        "      model.draw() should take 2 parameters, the matpltolib axes to draw on and an integer step number\n",
        "\n",
        "      See https://www.allendowney.com/blog/2019/07/25/matplotlib-animation-in-jupyter/\n",
        "          for a discussion of the pros and cons of various animation techniques in jupyter notebooks\n",
        "    \"\"\"\n",
        "\n",
        "    def __init__(self, model, frames=2, steps_per_frame=1, figsize=(5, 5)): #frames=50, steps_per_frame=1, figsize=(8, 8)\n",
        "        \"\"\"\n",
        "        :param model: the simulation object to animate, with step() and draw(axes, step) methods\n",
        "        :param frames: number of animation frames to generate\n",
        "        \"\"\"\n",
        "        self.model = model\n",
        "        self.frames = frames\n",
        "        self.steps_per_frame = steps_per_frame\n",
        "        self.fig, self.ax = plt.subplots(figsize=figsize)\n",
        "\n",
        "    def animation_step(self, step):\n",
        "        \"\"\" Step the model forward and draw the plot \"\"\"\n",
        "        if step > 0:\n",
        "            for _ in range(self.steps_per_frame):\n",
        "                self.model.step()\n",
        "        self.model.draw(self.ax, step=step * self.steps_per_frame)\n",
        "\n",
        "    def show(self):\n",
        "        \"\"\" return the matplotlib animation object, ready for display \"\"\"\n",
        "        anim = animation.FuncAnimation(self.fig, self.animation_step, frames=self.frames)\n",
        "        plt.close()  # this ensures the last frame is not shown as a separate plot\n",
        "        return anim\n",
        "\n",
        "    def animate(self, interval=None):\n",
        "        \"\"\" Animate the model simulation directly in the notebook display block \"\"\"\n",
        "        from IPython.display import clear_output\n",
        "        try:\n",
        "            for i in range(self.frames):\n",
        "                clear_output(wait=True)  # clear the IPython display\n",
        "                self.ax.clear()  # clear old image from the axes (fixes a performance issue)\n",
        "                plt.figure(self.fig)  # add the figure back to pyplot ** sigh **\n",
        "                self.animation_step(i)\n",
        "                plt.show()  # show the current animation frame (pyplot then closes and throws away figure ** sigh **)\n",
        "                if interval:\n",
        "                    time.sleep(interval)\n",
        "        except KeyboardInterrupt:\n",
        "            pass"
      ],
      "metadata": {
        "id": "-myg3tDjSch0"
      },
      "execution_count": 212,
      "outputs": []
    },
    {
      "cell_type": "code",
      "source": [
        "class Deer:\n",
        "\n",
        "  def __init__(self, location, weight=25):\n",
        "    self.location = tuple(location)\n",
        "    self.weight = int(weight)\n",
        "\n",
        "class Grazing_simulation:\n",
        "\n",
        "\n",
        "  cmap = [(1, 0.5, 0), (0, 1, 0)]\n",
        "  grazing_colour_map = matplotlib.colors.ListedColormap(cmap)\n",
        "\n",
        "\n",
        "  def __init__(self, size, coverage, num_deer, max_weight=50, metabolism=6):\n",
        "      self.size = size\n",
        "      self.coverage = coverage\n",
        "      self.num_deer = num_deer\n",
        "      self.max_weight = max_weight\n",
        "      self.metabolism = metabolism\n",
        "\n",
        "      self.grassland = np.random.choice([1,0], (size,size), p=(coverage, 1-coverage))\n",
        "\n",
        "      self.introduce_deer()\n",
        "\n",
        "  def introduce_deer(self):\n",
        "      locs = [(x,y) for x in range(self.size) for y in range(self.size)]\n",
        "      np.random.shuffle(locs)\n",
        "\n",
        "      assert(self.num_deer <= len(locs))\n",
        "      self.deers = [Deer(locs[i]) for i in range(self.num_deer)]\n",
        "      # for deer in self.deers:\n",
        "      #           xs, ys = deer.location\n",
        "      #           points = plt.plot(xs, ys, '.', color='brown', markersize=30)\n",
        "\n",
        "  \n",
        "  def step(self):\n",
        "    self.occupied_locations = [deer.location for deer in self.deers]\n",
        "    # print(occupied_locations)\n",
        "    for deer in self.deers:\n",
        "      self.occupied_locations.remove(deer.location)\n",
        "      moves = [(0,-1), (1,0), (0,1), (-1,0)]\n",
        "      deer.location = tuple(map(sum, zip(deer.location, random.choice(moves))))\n",
        "      self.occupied_locations.append(deer.location)\n",
        "      xs, ys = deer.location\n",
        "      points = plt.plot(xs, ys, '.', color='brown', markersize=30)\n",
        "    self.grassland\n",
        "\n",
        "  def draw(self, axes=None, step=''):\n",
        "      \"\"\"Draws the CA cells using the forest colour map so values are coloured intuitively.\"\"\"\n",
        "      axes = axes or plt.axes\n",
        "      title = f'Time:{step}\\nNumber of deer present: {len(self.deers)}'\n",
        "      plot_2D_array(self.grassland, axes=axes, title=title,\n",
        "                    cmap=self.grazing_colour_map, vmin=0, vmax=len(self.grazing_colour_map.colors))"
      ],
      "metadata": {
        "id": "zIPGFeOPGkKs"
      },
      "execution_count": 205,
      "outputs": []
    },
    {
      "cell_type": "code",
      "source": [
        "n=10\n",
        "q=0.4\n",
        "num_deer = 5\n",
        "arr = Grazing_simulation(n, q, num_deer)\n",
        "\n",
        "see = Animation2D(arr)\n",
        "see.animate()"
      ],
      "metadata": {
        "colab": {
          "base_uri": "https://localhost:8080/",
          "height": 464
        },
        "id": "48BB1o5TIED6",
        "outputId": "7fa1f998-0f2a-40f2-96c9-d37609c0add3"
      },
      "execution_count": 216,
      "outputs": [
        {
          "output_type": "display_data",
          "data": {
            "text/plain": [
              "<Figure size 500x500 with 1 Axes>"
            ],
            "image/png": "[encoded data removed]"
          },
          "metadata": {}
        }
      ]
    },
    {
      "cell_type": "code",
      "source": [
        "#CHECKING FOR AVAILABLE LOCATIONS ON THE GRID\n",
        "\n",
        "num = 6\n",
        "other = np.random.choice([1,0], (3,3), p=(0.5,0.5))\n",
        "\n",
        "\n",
        "i,j = other.shape\n",
        "locs = [(x,y) for x in range(i) for y in range(j)]\n",
        "np.random.shuffle(locs)\n",
        "\n",
        "assert(num <= len(locs))\n",
        "agents = [Deer(locs[i]) for i in range(num)]\n",
        "occupied = [deer.location for deer in agents]\n",
        "\n",
        "for agent in agents:\n",
        "  pprint(f'Deer location: {agent.location}. Deer weight: {agent.weight}')\n",
        "\n",
        "\n",
        "available_loc = [(x,y) for x in range(i) for y in range(j) if (x,y) not in occupied]\n",
        "print(f'Available locations: {available_loc}')"
      ],
      "metadata": {
        "colab": {
          "base_uri": "https://localhost:8080/"
        },
        "id": "q4wMwOVAMft5",
        "outputId": "e629ccff-379e-42d3-8fc0-e39c0119c850"
      },
      "execution_count": 230,
      "outputs": [
        {
          "output_type": "stream",
          "name": "stdout",
          "text": [
            "'Deer location: (1, 0). Deer weight: 25'\n",
            "'Deer location: (2, 1). Deer weight: 25'\n",
            "'Deer location: (0, 2). Deer weight: 25'\n",
            "'Deer location: (2, 2). Deer weight: 25'\n",
            "'Deer location: (0, 1). Deer weight: 25'\n",
            "'Deer location: (2, 0). Deer weight: 25'\n",
            "Available locations: [(0, 0), (1, 1), (1, 2)]\n"
          ]
        }
      ]
    },
    {
      "cell_type": "code",
      "source": [
        "#MOVING A DEER OBJECT TO A NEW CELL BASED ON ITS CURRENT LOCATION\n",
        "\n",
        "randlocation = (4,3)\n",
        "moves = [(0,-1), (1,0), (0,1), (-1,0)]\n",
        "randlocation = tuple(map(sum, zip(randlocation, random.choice(moves)))) #SUMS UP THE TWO TUPLES\n",
        "\n",
        "print(randlocation)"
      ],
      "metadata": {
        "colab": {
          "base_uri": "https://localhost:8080/"
        },
        "id": "J5z5dY1CcUdR",
        "outputId": "f29b424f-c8ec-46e8-f309-cf3ab9ea9130"
      },
      "execution_count": 177,
      "outputs": [
        {
          "output_type": "stream",
          "name": "stdout",
          "text": [
            "(3, 3)\n"
          ]
        }
      ]
    }
  ]
}