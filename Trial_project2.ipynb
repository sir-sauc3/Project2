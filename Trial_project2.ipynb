{
  "nbformat": 4,
  "nbformat_minor": 0,
  "metadata": {
    "colab": {
      "provenance": [],
      "include_colab_link": true
    },
    "kernelspec": {
      "name": "python3",
      "display_name": "Python 3"
    },
    "language_info": {
      "name": "python"
    }
  },
  "cells": [
    {
      "cell_type": "markdown",
      "metadata": {
        "id": "view-in-github",
        "colab_type": "text"
      },
      "source": [
        "<a href=\"https://colab.research.google.com/github/sir-sauc3/Project2/blob/main/Trial_project2.ipynb\" target=\"_parent\"><img src=\"https://colab.research.google.com/assets/colab-badge.svg\" alt=\"Open In Colab\"/></a>"
      ]
    },
    {
      "cell_type": "code",
      "execution_count": 1,
      "metadata": {
        "id": "iTRxTv9uEn-6"
      },
      "outputs": [],
      "source": [
        "import numpy as np\n",
        "from dataclasses import dataclass\n",
        "from pprint import pprint\n",
        "import random\n",
        "from scipy.signal import correlate2d\n",
        "\n",
        "import time\n",
        "\n",
        "import matplotlib\n",
        "import matplotlib.pyplot as plt\n",
        "from matplotlib import animation\n",
        "import matplotlib.colors as colors"
      ]
    },
    {
      "cell_type": "code",
      "source": [
        "DEFAULT_IMSHOW_OPTIONS = dict(\n",
        "    cmap='Blues',\n",
        "    interpolation='none',\n",
        "    origin='upper',\n",
        ")\n",
        "\n",
        "\n",
        "def plot_2D_array(array, axes=None, title='', **options):\n",
        "    \"\"\" Plot the 2D array as an image on the given axes  1's will be dark blue, 0's will be light blue. \"\"\"\n",
        "    axes = axes or plt.gca()  # If not axes are provided, draw on current axes\n",
        "    axes.set_title(title)\n",
        "    axes.set_xticks([], [])  # remove axes tick marks\n",
        "    axes.set_yticks([], [])\n",
        "    options = {**DEFAULT_IMSHOW_OPTIONS, **options}\n",
        "    axes.imshow(array, **options)"
      ],
      "metadata": {
        "id": "l9uk8kBUSgua"
      },
      "execution_count": 2,
      "outputs": []
    },
    {
      "cell_type": "code",
      "source": [
        "class Animation2D:\n",
        "    \"\"\"\n",
        "      Animates any 2D model with a step() method and a draw() method, using matplotlib\n",
        "      model.step() should take no parameters - just step the model forward one step.\n",
        "      model.draw() should take 2 parameters, the matpltolib axes to draw on and an integer step number\n",
        "\n",
        "      See https://www.allendowney.com/blog/2019/07/25/matplotlib-animation-in-jupyter/\n",
        "          for a discussion of the pros and cons of various animation techniques in jupyter notebooks\n",
        "    \"\"\"\n",
        "\n",
        "    def __init__(self, model, frames=50, steps_per_frame=1, figsize=(9, 9)): #frames=50, steps_per_frame=1, figsize=(8, 8)\n",
        "        \"\"\"\n",
        "        :param model: the simulation object to animate, with step() and draw(axes, step) methods\n",
        "        :param frames: number of animation frames to generate\n",
        "        \"\"\"\n",
        "        self.model = model\n",
        "        self.frames = frames\n",
        "        self.steps_per_frame = steps_per_frame\n",
        "        self.fig, self.ax = plt.subplots(figsize=figsize)\n",
        "\n",
        "    def animation_step(self, step):\n",
        "        \"\"\" Step the model forward and draw the plot \"\"\"\n",
        "        if step > 0:\n",
        "            for _ in range(self.steps_per_frame):\n",
        "                self.model.step()\n",
        "        self.model.draw(self.ax, step=step * self.steps_per_frame)\n",
        "\n",
        "    def show(self):\n",
        "        \"\"\" return the matplotlib animation object, ready for display \"\"\"\n",
        "        anim = animation.FuncAnimation(self.fig, self.animation_step, frames=self.frames)\n",
        "        plt.close()  # this ensures the last frame is not shown as a separate plot\n",
        "        return anim\n",
        "\n",
        "    def animate(self, interval=0.4):\n",
        "        \"\"\" Animate the model simulation directly in the notebook display block \"\"\"\n",
        "        from IPython.display import clear_output\n",
        "        try:\n",
        "            for i in range(self.frames):\n",
        "                clear_output(wait=True)  # clear the IPython display\n",
        "                self.ax.clear()  # clear old image from the axes (fixes a performance issue)\n",
        "                plt.figure(self.fig)  # add the figure back to pyplot ** sigh **\n",
        "                self.animation_step(i)\n",
        "                plt.show()  # show the current animation frame (pyplot then closes and throws away figure ** sigh **)\n",
        "                if interval:\n",
        "                    time.sleep(interval)\n",
        "        except KeyboardInterrupt:\n",
        "            pass"
      ],
      "metadata": {
        "id": "-myg3tDjSch0"
      },
      "execution_count": 15,
      "outputs": []
    },
    {
      "cell_type": "code",
      "source": [
        "class Deer:\n",
        "\n",
        "  def __init__(self, location, weight=30, **grid_size):\n",
        "    self.location = tuple(location)\n",
        "    self.weight = weight\n",
        "    self.gridsize= grid_size['grid_size']\n",
        "\n",
        "  def cardinal_neighbors(self):\n",
        "    x = self.location[0]\n",
        "    y = self.location[1]\n",
        "    return [((x-1)%self.gridsize, y), (x, (y+1)%self.gridsize), ((x+1)%self.gridsize, y), (x, (y-1)%self.gridsize)]"
      ],
      "metadata": {
        "id": "dhtd6vmxtzW7"
      },
      "execution_count": 4,
      "outputs": []
    },
    {
      "cell_type": "code",
      "source": [
        "class Grazing_simulation:\n",
        "\n",
        "\n",
        "  cmap = [(1, 0.5, 0), (0, 1, 0)]\n",
        "  grazing_colour_map = matplotlib.colors.ListedColormap(cmap)\n",
        "\n",
        "\n",
        "  def __init__(self, size, coverage, num_deer, regrowth_rate=0.25, max_weight=50, metabolism=10, regrowth_interval=5):\n",
        "      self.size = size\n",
        "      self.coverage = coverage\n",
        "      self.num_deer = num_deer\n",
        "      self.regrowth_rate = regrowth_rate\n",
        "      self.max_weight = max_weight\n",
        "      self.metabolism = metabolism\n",
        "      self.regrowth_interval = regrowth_interval\n",
        "      self.step_count = 0\n",
        "\n",
        "      self.grassland = np.random.choice([1,0], (size,size), p=(coverage, 1-coverage))\n",
        "      self.introduce_deer()\n",
        "\n",
        "  def calculate_weights(self, deer):\n",
        "      weights = []\n",
        "      for neighbor in deer.cardinal_neighbors():\n",
        "          x, y = neighbor\n",
        "          if self.grassland[y][x] == 1:\n",
        "              weight = 1\n",
        "          else:\n",
        "              weight = 0\n",
        "          weights.append(weight)\n",
        "      return weights\n",
        "\n",
        "\n",
        "  def introduce_deer(self):\n",
        "      locs = [(x,y) for x in range(self.size) for y in range(self.size)]\n",
        "      np.random.shuffle(locs)\n",
        "\n",
        "      assert(self.num_deer <= len(locs))\n",
        "      self.deers = [Deer(locs[i], grid_size = self.size) for i in range(self.num_deer)]\n",
        "\n",
        "\n",
        "  def move_deer(self, deer):      \n",
        "    weights = self.calculate_weights(deer)\n",
        "    max_weight = max(weights)\n",
        "    best_neighbors = [i for i, w in enumerate(weights) if w == max_weight]\n",
        "    available_to_move = [(x,y) for i, (x,y) in enumerate(deer.cardinal_neighbors()) if i in best_neighbors and (x,y) not in self.occupied_locations]\n",
        "\n",
        "    if (len(available_to_move) > 0):\n",
        "        self.occupied_locations.remove(deer.location)\n",
        "        deer.location = random.choice(available_to_move)\n",
        "        self.occupied_locations.append(deer.location)\n",
        "    else:\n",
        "        return\n",
        "\n",
        "    x, y = deer.location\n",
        "    if self.grassland[y][x] == 1:\n",
        "        deer.weight += self.metabolism #A POSSIBLE PARAMETER TO CHANGE FOR SUSTAINABILITY EXPERIMENT\n",
        "        self.grassland[y][x] = 0\n",
        "    else:\n",
        "        deer.weight -= self.metabolism * 1.5 #A POSSIBLE PARAMETER TO CHANGE FOR SUSTAINABILITY EXPERIMENT\n",
        "        if deer.weight <= 0:\n",
        "            self.deers.remove(deer)\n",
        "\n",
        "\n",
        "\n",
        "\n",
        "  def step(self):\n",
        "    self.occupied_locations = [deer.location for deer in self.deers]\n",
        "    other_locs = {}\n",
        "\n",
        "    self.step_count += 1\n",
        "    if self.step_count % self.regrowth_interval == 0:\n",
        "      regrowth_mask = np.random.choice([0,1], (self.size,self.size), p=(1-self.regrowth_rate, self.regrowth_rate))\n",
        "      self.grassland = np.clip(self.grassland + regrowth_mask, 0, 1)\n",
        "\n",
        "    for deer in self.deers:\n",
        "      self.move_deer(deer)\n",
        "      xs, ys = deer.location\n",
        "      other_locs.update({(xs,ys):deer.weight})\n",
        "      points = plt.plot(xs, ys, '.', color='brown', markersize=10)\n",
        "    print(f'weights at each time step: {other_locs}')\n",
        "    print(\"---------------------------------------------------------------------------------------\")\n",
        "\n",
        "\n",
        "  def draw(self, axes=None, step=''):\n",
        "      \"\"\"Draws the CA cells using the forest colour map so values are coloured intuitively.\"\"\"\n",
        "      axes = axes or plt.axes\n",
        "      title = f'Time:{step}\\nNumber of deer present: {len(self.deers)}'\n",
        "      plot_2D_array(self.grassland, axes=axes, title=title,\n",
        "                    cmap=self.grazing_colour_map, vmin=0, vmax=len(self.grazing_colour_map.colors))"
      ],
      "metadata": {
        "id": "zIPGFeOPGkKs"
      },
      "execution_count": 24,
      "outputs": []
    },
    {
      "cell_type": "code",
      "source": [
        "# sim = Grazing_simulation(10, 0.2, 5)\n",
        "\n",
        "# for i in range(5):\n",
        "#     sim.step()\n",
        "\n",
        "    \n",
        "n=100\n",
        "q=0.3\n",
        "num_deer = 300\n",
        "arr = Grazing_simulation(n, q, num_deer)\n",
        "\n",
        "# print(arr.grassland)\n",
        "\n",
        "see = Animation2D(arr)\n",
        "see.animate()\n",
        "# see.show()\n",
        "# arr.step()\n",
        "# see.animate()"
      ],
      "metadata": {
        "colab": {
          "base_uri": "https://localhost:8080/",
          "height": 825
        },
        "id": "48BB1o5TIED6",
        "outputId": "7729929f-e5d8-4bd5-8850-a6b315ec4cb0"
      },
      "execution_count": 28,
      "outputs": [
        {
          "output_type": "stream",
          "name": "stdout",
          "text": [
            "weights at each time step: {(11, 15): 385.0, (31, 88): 185.0, (55, 23): 245.0, (37, 45): 435.0, (51, 6): 395.0, (0, 25): 225.0, (9, 89): 420.0, (78, 8): 195.0, (51, 87): 295.0, (60, 38): 435.0, (64, 54): 285.0, (19, 15): 320.0, (69, 27): 260.0, (26, 88): 495.0, (82, 84): 445.0, (36, 42): 370.0, (55, 19): 260.0, (50, 29): 375.0, (13, 37): 370.0, (33, 78): 360.0, (79, 61): 295.0, (1, 35): 360.0, (50, 93): 300.0, (99, 79): 345.0, (96, 72): 295.0, (54, 71): 170.0, (6, 11): 385.0, (31, 17): 345.0, (37, 41): 420.0, (75, 19): 310.0, (32, 25): 335.0, (10, 65): 225.0, (42, 63): 395.0, (67, 9): 260.0, (19, 80): 360.0, (36, 93): 220.0, (75, 79): 200.0, (9, 34): 335.0, (0, 8): 245.0, (47, 22): 445.0, (20, 97): 420.0, (10, 40): 420.0, (53, 21): 295.0, (46, 53): 320.0, (14, 38): 395.0, (81, 74): 160.0, (86, 17): 285.0, (50, 20): 135.0, (77, 34): 345.0, (44, 30): 320.0, (61, 49): 260.0, (34, 65): 360.0, (56, 3): 460.0, (68, 78): 360.0, (4, 54): 295.0, (93, 91): 335.0, (65, 50): 295.0, (67, 5): 195.0, (73, 21): 360.0, (83, 83): 385.0, (89, 7): 410.0, (66, 85): 410.0, (86, 46): 335.0, (1, 72): 285.0, (26, 55): 120.0, (38, 39): 260.0, (70, 36): 370.0, (31, 56): 345.0, (36, 0): 270.0, (63, 69): 420.0, (80, 53): 335.0, (55, 14): 320.0, (93, 80): 300.0, (70, 94): 345.0, (67, 73): 300.0, (35, 20): 370.0, (21, 86): 295.0, (40, 95): 260.0, (51, 45): 395.0, (55, 90): 470.0, (43, 2): 360.0, (96, 21): 495.0, (79, 12): 335.0, (52, 36): 385.0, (42, 54): 395.0, (96, 73): 310.0, (90, 10): 395.0, (99, 78): 295.0, (15, 62): 395.0, (90, 40): 345.0, (99, 11): 320.0, (79, 33): 420.0, (99, 97): 410.0, (84, 2): 235.0, (34, 89): 210.0, (77, 1): 245.0, (13, 31): 320.0, (85, 51): 320.0, (57, 42): 320.0, (98, 46): 235.0, (83, 43): 460.0, (29, 0): 495.0, (18, 67): 335.0, (92, 56): 385.0, (22, 36): 360.0, (66, 74): 225.0, (7, 2): 235.0, (98, 82): 310.0, (11, 46): 395.0, (37, 6): 420.0, (44, 10): 195.0, (59, 13): 360.0, (74, 28): 370.0, (20, 99): 360.0, (76, 1): 100.0, (96, 98): 220.0, (53, 37): 460.0, (7, 61): 270.0, (38, 85): 370.0, (45, 16): 445.0, (9, 87): 470.0, (4, 10): 420.0, (94, 99): 370.0, (82, 67): 410.0, (17, 44): 450.0, (77, 77): 170.0, (46, 85): 445.0, (49, 73): 310.0, (41, 44): 420.0, (49, 60): 295.0, (70, 93): 220.0, (40, 57): 370.0, (80, 2): 435.0, (56, 66): 220.0, (86, 94): 295.0, (13, 53): 310.0, (46, 31): 345.0, (42, 86): 470.0, (85, 56): 320.0, (48, 11): 445.0, (21, 3): 420.0, (90, 42): 370.0, (66, 3): 435.0, (6, 40): 395.0, (71, 63): 420.0, (58, 56): 295.0, (41, 51): 370.0, (49, 77): 350.0, (45, 48): 275.0, (97, 67): 245.0, (24, 74): 385.0, (14, 35): 445.0, (42, 12): 420.0, (91, 82): 195.0, (37, 32): 195.0, (18, 58): 370.0, (31, 30): 335.0, (60, 14): 370.0, (39, 14): 345.0, (88, 33): 335.0, (62, 15): 410.0, (75, 71): 345.0, (34, 68): 395.0, (52, 82): 310.0, (33, 58): 445.0, (3, 91): 345.0, (68, 37): 270.0, (41, 80): 345.0, (22, 94): 245.0, (77, 72): 495.0, (68, 42): 310.0, (29, 54): 310.0, (74, 55): 345.0, (62, 93): 370.0, (92, 85): 270.0, (75, 53): 320.0, (26, 81): 345.0, (23, 36): 370.0, (73, 23): 370.0, (98, 51): 420.0, (38, 99): 275.0, (89, 43): 295.0, (2, 92): 445.0, (15, 49): 495.0, (63, 20): 210.0, (84, 70): 345.0, (46, 96): 170.0, (8, 68): 385.0, (92, 72): 395.0, (75, 87): 410.0, (4, 57): 395.0, (77, 74): 150.0}\n",
            "---------------------------------------------------------------------------------------\n"
          ]
        },
        {
          "output_type": "display_data",
          "data": {
            "text/plain": [
              "<Figure size 900x900 with 1 Axes>"
            ],
            "image/png": "[encoded data removed]"
          },
          "metadata": {}
        }
      ]
    },
    {
      "cell_type": "code",
      "source": [
        "#MAKING THE DEER MOVE\n",
        "\n",
        "#####################\n",
        "# 1) get occupied locations (list)\n",
        "# 2) get cardinal neighbors (list)\n",
        "# 3) get cardinal neighbors in (2) that are not in (1). if length of list > 0 delete current position from occupied. else break and stay put\n",
        "# 4) pick random cardinal neighbor in (3) and make it the deer's new position\n",
        "# 5) add (4) to (1)\n",
        "\n",
        "\n",
        "# it would help if we made a cardinal neighbor function in the Deer class\n",
        "\n",
        "\n",
        "# THINGS WE NEED TO WORK ON:\n",
        "# 1. regenerating the vegetation\n",
        "# 2. making the deer 'smart' so they can choose where they should go based on the vegetation around them (Joseph sent me an email about this)\n",
        "#    honestly after running a few simulations it does not seem realistic AT ALL that the entire deer population die in less than half the time \n",
        "#    steps :/ especially with all the vegetated cells still there\n",
        "\n",
        "\n",
        "\n",
        "\n",
        "# CHANGES AND OBSERVATIONS MADE\n",
        "# 1. CHANGE - lines 56 and 59 of the grazing simulation cell to make use of the metabolism parameter since that was a value we wanted to constatly change and measure sustainabilty\n",
        "# 2. OBSERVATION - w/ metabolism at 9, weight gain = metabolism, and weight loss = metabolism * 1.5, steady state was at time step 34 w/ about 229 deer (q=0.35)\n",
        "# 3. OBSERVATION - w/ metabolism at 10, weight gain = metabolism, and weight loss = metabolism * 1.5, steady state was at time step 35 w/ about 219 deer (q=0.35)\n",
        "# 4. OBSERVATION - w/ metabolism at 10, weight gain = metabolism, and weight loss = metabolism * 1.5, steady state was at time step 30 w/ about 194 deer (q=0.3)"
      ],
      "metadata": {
        "id": "u-e0hEiCxloj"
      },
      "execution_count": 7,
      "outputs": []
    },
    {
      "cell_type": "markdown",
      "source": [
        "# Experiment Conclusion and Discussion\n",
        "\n",
        "i guess we put our chart and blab about it here lol"
      ],
      "metadata": {
        "id": "Dmw1ZnHvbcgN"
      }
    },
    {
      "cell_type": "markdown",
      "source": [
        "# Algorithm Analysis\n",
        "1. The introduce_deer method has a time complexity of O(n^2) because it loops through all the cells in the grid to create a list of available locations to place the deer, and then shuffles that list before selecting the first m items to create the deer. The step method has a time complexity of O(m\\*n) because it loops through all the deer and their cardinal neighbors to move the deer. This could result in up to a O(n\\*n), should the inputs result in deer occupying every cell (this is an edge case however, not the average case).\n",
        "\n",
        "2. This means that the model will continue to grow exponentially as the size of the CA increases. Thus, it's important to take note of how expensive running this simulation would be for longer CA experiments.\n",
        "\n",
        "3."
      ],
      "metadata": {
        "id": "FsR6cdk6PToz"
      }
    }
  ]
}