{
  "nbformat": 4,
  "nbformat_minor": 0,
  "metadata": {
    "colab": {
      "provenance": [],
      "include_colab_link": true
    },
    "kernelspec": {
      "name": "python3",
      "display_name": "Python 3"
    },
    "language_info": {
      "name": "python"
    }
  },
  "cells": [
    {
      "cell_type": "markdown",
      "metadata": {
        "id": "view-in-github",
        "colab_type": "text"
      },
      "source": [
        "<a href=\"https://colab.research.google.com/github/sir-sauc3/Project2/blob/main/Trial_project2.ipynb\" target=\"_parent\"><img src=\"https://colab.research.google.com/assets/colab-badge.svg\" alt=\"Open In Colab\"/></a>"
      ]
    },
    {
      "cell_type": "markdown",
      "source": [
        "#PROJECT 2: DEER PARK\n",
        "## Authors: Sos & Roberto\n",
        "\n",
        "\n",
        "\n",
        "\\\n",
        "\n",
        "##Introduction:\n",
        "\n",
        "Deer Park is a simulation project that tests self-regulating systems through a hypothetical field where deer are allowed to graze within certain parameters. The aim of the project is to identify the steady state of the system within a specific number of time steps. This project studies the behavior of ecosystems and their ability to self-regulate. By creating a controlled environment where we can observe the interactions between deer and their environment, we hope to gain insights into the dynamics of natural systems and apply them to real-world scenarios.\n",
        "\n",
        "\n",
        "\\\n",
        "\n",
        "\n",
        "---\n",
        "\n"
      ],
      "metadata": {
        "id": "wmQ8XzlEzvyF"
      }
    },
    {
      "cell_type": "markdown",
      "source": [
        "####The first cell imports the necesary modules"
      ],
      "metadata": {
        "id": "-DXXYWRw3AG3"
      }
    },
    {
      "cell_type": "code",
      "execution_count": 1,
      "metadata": {
        "id": "iTRxTv9uEn-6"
      },
      "outputs": [],
      "source": [
        "import numpy as np\n",
        "from dataclasses import dataclass\n",
        "from pprint import pprint\n",
        "import random\n",
        "from scipy.signal import correlate2d\n",
        "import timeit\n",
        "import time\n",
        "\n",
        "import matplotlib\n",
        "import matplotlib.pyplot as plt\n",
        "from matplotlib import animation\n",
        "import matplotlib.colors as colors"
      ]
    },
    {
      "cell_type": "markdown",
      "source": [
        "####The next two cells are the ones taken from previous labs that helped us when it came to visualizing the simulation during a run"
      ],
      "metadata": {
        "id": "ySLLytjZ54oT"
      }
    },
    {
      "cell_type": "code",
      "source": [
        "DEFAULT_IMSHOW_OPTIONS = dict(\n",
        "    cmap='Blues',\n",
        "    interpolation='none',\n",
        "    origin='upper',\n",
        ")\n",
        "\n",
        "\n",
        "def plot_2D_array(array, axes=None, title='', **options):\n",
        "    \"\"\" Plot the 2D array as an image on the given axes  1's will be dark blue, 0's will be light blue. \"\"\"\n",
        "    axes = axes or plt.gca()  # If not axes are provided, draw on current axes\n",
        "    axes.set_title(title)\n",
        "    axes.set_xticks([], [])  # remove axes tick marks\n",
        "    axes.set_yticks([], [])\n",
        "    options = {**DEFAULT_IMSHOW_OPTIONS, **options}\n",
        "    axes.imshow(array, **options)"
      ],
      "metadata": {
        "id": "l9uk8kBUSgua"
      },
      "execution_count": 2,
      "outputs": []
    },
    {
      "cell_type": "code",
      "source": [
        "class Animation2D:\n",
        "    \"\"\"\n",
        "      Animates any 2D model with a step() method and a draw() method, using matplotlib\n",
        "      model.step() should take no parameters - just step the model forward one step.\n",
        "      model.draw() should take 2 parameters, the matpltolib axes to draw on and an integer step number\n",
        "\n",
        "      See https://www.allendowney.com/blog/2019/07/25/matplotlib-animation-in-jupyter/\n",
        "          for a discussion of the pros and cons of various animation techniques in jupyter notebooks\n",
        "    \"\"\"\n",
        "\n",
        "    def __init__(self, model, frames=50, steps_per_frame=1, figsize=(9, 9)): #frames=50, steps_per_frame=1, figsize=(8, 8)\n",
        "        \"\"\"\n",
        "        :param model: the simulation object to animate, with step() and draw(axes, step) methods\n",
        "        :param frames: number of animation frames to generate\n",
        "        \"\"\"\n",
        "        self.model = model\n",
        "        self.frames = frames\n",
        "        self.steps_per_frame = steps_per_frame\n",
        "        self.fig, self.ax = plt.subplots(figsize=figsize)\n",
        "\n",
        "    def animation_step(self, step):\n",
        "        \"\"\" Step the model forward and draw the plot \"\"\"\n",
        "        if step > 0:\n",
        "            for _ in range(self.steps_per_frame):\n",
        "                self.model.step()\n",
        "        self.model.draw(self.ax, step=step * self.steps_per_frame)\n",
        "\n",
        "    def show(self):\n",
        "        \"\"\" return the matplotlib animation object, ready for display \"\"\"\n",
        "        anim = animation.FuncAnimation(self.fig, self.animation_step, frames=self.frames)\n",
        "        plt.close()  # this ensures the last frame is not shown as a separate plot\n",
        "        return anim\n",
        "\n",
        "    def animate(self, interval=0.4):\n",
        "        \"\"\" Animate the model simulation directly in the notebook display block \"\"\"\n",
        "        from IPython.display import clear_output\n",
        "        try:\n",
        "            for i in range(self.frames):\n",
        "                clear_output(wait=True)  # clear the IPython display\n",
        "                self.ax.clear()  # clear old image from the axes (fixes a performance issue)\n",
        "                plt.figure(self.fig)  # add the figure back to pyplot ** sigh **\n",
        "                self.animation_step(i)\n",
        "                plt.show()  # show the current animation frame (pyplot then closes and throws away figure ** sigh **)\n",
        "                if interval:\n",
        "                    time.sleep(interval)\n",
        "        except KeyboardInterrupt:\n",
        "            pass"
      ],
      "metadata": {
        "id": "-myg3tDjSch0"
      },
      "execution_count": 39,
      "outputs": []
    },
    {
      "cell_type": "markdown",
      "source": [
        "##**Deer class**\n",
        "We kept the deer class pretty simple. Including a few attributes and only having one method.\n",
        "\n",
        "\\\n",
        "Using the modulus function `%` was a really neat and concise way to get the cardinal neighbours of a cell especially if the said neighbour was wrapped around the field. It saved us time and space from writing long conditional code blocks that adjusted indexing to make sure the positions returned match a true location on the grid."
      ],
      "metadata": {
        "id": "pgMtbcP-7BV7"
      }
    },
    {
      "cell_type": "code",
      "source": [
        "class Deer:\n",
        "\n",
        "  def __init__(self, location, weight=30, **grid_size):\n",
        "    self.location = tuple(location)\n",
        "    self.weight = weight\n",
        "    self.gridsize= grid_size['grid_size']\n",
        "\n",
        "  def cardinal_neighbors(self):\n",
        "    x = self.location[0]\n",
        "    y = self.location[1]\n",
        "    return [((x-1)%self.gridsize, y), (x, (y+1)%self.gridsize), ((x+1)%self.gridsize, y), (x, (y-1)%self.gridsize)]"
      ],
      "metadata": {
        "id": "dhtd6vmxtzW7"
      },
      "execution_count": 4,
      "outputs": []
    },
    {
      "cell_type": "markdown",
      "source": [
        "##**Grazing Simulation class**\n",
        "This part of the notebook defines the grassland and the parameters that bound it. In it, we initialize some parameters like `regrowth_rate`, `max_weight`, `metabolism`,  and  `regrowth_interval` which indicates how many time steps should pass before regenerating the grass.\n",
        "\n",
        "\n",
        "\\\n",
        "###Introducing N deer onto the grassland\n",
        "There are a lot of ways we tried introducing and displaying the deer on the grassland. Most of which restricted the w:ay we could run tests on the simulation. However, the one coded in the cell below proved to be our best result. This is how the algorithm works:\n",
        "\n",
        "\n",
        "\n",
        "*   Start by making a list of all possible locations on the grassland.\n",
        "*   Shuffle them.\n",
        "*   Choose the first N locations in the list and create a deer object in those positions.\n",
        "\n",
        "\n",
        "\\\n",
        "###Moving the deer\n",
        "Initially we had the deer move in random cardinal directions. But after running the simulaiton, it was clear that it did not seem realistic at all. That's because a lot of deer would starve to death moving back and forth between 'dry' cells even though there were cells with food not too far away. We needed a way to make them 'smart' so that there could be a purpose in the direcition they decided to take in the next time step.\n",
        "\n",
        "We did this by making a `calculate_weights` method that returned the weights of the cardinal neighbours of the cell a deer was on. This allowed it to 'see' what cell was the next best one to move to.:\n",
        "\n",
        "\n",
        "\n"
      ],
      "metadata": {
        "id": "MvqMpx1o80r8"
      }
    },
    {
      "cell_type": "code",
      "source": [
        "class Grazing_simulation:\n",
        "\n",
        "\n",
        "  cmap = [(1, 0.5, 0), (0, 1, 0)]\n",
        "  grazing_colour_map = matplotlib.colors.ListedColormap(cmap)\n",
        "\n",
        "\n",
        "  def __init__(self, size, coverage, num_deer, regrowth_rate=0.25, max_weight=50, metabolism=10, regrowth_interval=5):\n",
        "      self.size = size\n",
        "      self.coverage = coverage\n",
        "      self.num_deer = num_deer\n",
        "      self.regrowth_rate = regrowth_rate\n",
        "      self.max_weight = max_weight\n",
        "      self.metabolism = metabolism\n",
        "      self.regrowth_interval = regrowth_interval\n",
        "      self.step_count = 0\n",
        "\n",
        "      self.grassland = np.random.choice([1,0], (size,size), p=(coverage, 1-coverage))\n",
        "      self.introduce_deer()\n",
        "\n",
        "  def calculate_weights(self, deer):\n",
        "      weights = []\n",
        "      for neighbor in deer.cardinal_neighbors():\n",
        "          x, y = neighbor\n",
        "          if self.grassland[y][x] == 1:\n",
        "              weight = 1\n",
        "          else:\n",
        "              weight = 0\n",
        "          weights.append(weight)\n",
        "      return weights\n",
        "\n",
        "\n",
        "  def introduce_deer(self):\n",
        "      locs = [(x,y) for x in range(self.size) for y in range(self.size)]\n",
        "      np.random.shuffle(locs)\n",
        "\n",
        "      assert(self.num_deer <= len(locs))\n",
        "      self.deers = [Deer(locs[i], grid_size = self.size) for i in range(self.num_deer)]\n",
        "\n",
        "\n",
        "  def move_deer(self, deer):      \n",
        "    weights = self.calculate_weights(deer)\n",
        "    max_weight = max(weights)\n",
        "    best_neighbors = [i for i, w in enumerate(weights) if w == max_weight]\n",
        "    available_to_move = [(x,y) for i, (x,y) in enumerate(deer.cardinal_neighbors()) if i in best_neighbors and (x,y) not in self.occupied_locations]\n",
        "\n",
        "    if (len(available_to_move) > 0):\n",
        "        self.occupied_locations.remove(deer.location)\n",
        "        deer.location = random.choice(available_to_move)\n",
        "        self.occupied_locations.append(deer.location)\n",
        "    else:\n",
        "        return\n",
        "\n",
        "    x, y = deer.location\n",
        "    if self.grassland[y][x] == 1:\n",
        "      if deer.weight == self.max_weight:\n",
        "        deer.weight -= self.metabolism #A POSSIBLE PARAMETER TO CHANGE FOR SUSTAINABILITY EXPERIMENT\n",
        "      else:\n",
        "        deer.weight += self.metabolism #A POSSIBLE PARAMETER TO CHANGE FOR SUSTAINABILITY EXPERIMENT\n",
        "        self.grassland[y][x] = 0\n",
        "    else:\n",
        "        deer.weight -= self.metabolism #A POSSIBLE PARAMETER TO CHANGE FOR SUSTAINABILITY EXPERIMENT\n",
        "        if deer.weight <= 0:\n",
        "            self.deers.remove(deer)\n",
        "\n",
        "\n",
        "\n",
        "\n",
        "  def step(self):\n",
        "    self.occupied_locations = [deer.location for deer in self.deers]\n",
        "\n",
        "    self.step_count += 1\n",
        "    if self.step_count % self.regrowth_interval == 0:\n",
        "      regrowth_mask = np.random.choice([0,1], (self.size,self.size), p=(1-self.regrowth_rate, self.regrowth_rate))\n",
        "      self.grassland = np.clip(self.grassland + regrowth_mask, 0, 1)\n",
        "\n",
        "    weight_at_location = {} # a dictionary that, when allowed to print on line 83-84, shows the deer's location and weight at each time step\n",
        "    for deer in self.deers:\n",
        "      self.move_deer(deer)\n",
        "      xs, ys = deer.location\n",
        "      weight_at_location.update({(xs,ys):int(deer.weight)}) #recorded in col,row\n",
        "      points = plt.plot(xs, ys, '.', color='brown', markersize=10) #plotted in col,row\n",
        "    # print(f'deer weights at each time step: {weight_at_location}')\n",
        "    # print(\"---------------------------------------------------------------------------------------\")\n",
        "\n",
        "\n",
        "  def draw(self, axes=None, step=''):\n",
        "      \"\"\"Draws the CA cells using the forest colour map so values are coloured intuitively.\"\"\"\n",
        "      axes = axes or plt.axes\n",
        "      title = f'Time:{step}\\nNumber of deer present: {len(self.deers)}'\n",
        "      plot_2D_array(self.grassland, axes=axes, title=title,\n",
        "                    cmap=self.grazing_colour_map, vmin=0, vmax=len(self.grazing_colour_map.colors))\n",
        "      \n",
        "  def run_simulation(self, num_steps):\n",
        "      times = []\n",
        "      for i in range(num_steps):\n",
        "          start_time = timeit.default_timer()\n",
        "          self.step()\n",
        "          end_time = timeit.default_timer()\n",
        "          times.append(end_time - start_time)\n",
        "\n",
        "      return times"
      ],
      "metadata": {
        "id": "zIPGFeOPGkKs"
      },
      "execution_count": 41,
      "outputs": []
    },
    {
      "cell_type": "markdown",
      "source": [
        "##After creating those two classes, we had to test our simulation out!"
      ],
      "metadata": {
        "id": "DXfG3sl2QRWU"
      }
    },
    {
      "cell_type": "code",
      "source": [
        "n=100\n",
        "q=0.3\n",
        "num_deer = 300\n",
        "\n",
        "field = Grazing_simulation(n, q, num_deer)\n",
        "\n",
        "run = Animation2D(field)\n",
        "run.animate()"
      ],
      "metadata": {
        "colab": {
          "base_uri": "https://localhost:8080/",
          "height": 772
        },
        "id": "48BB1o5TIED6",
        "outputId": "b185f92a-1a0d-4c03-e050-b0f7d17bf29b"
      },
      "execution_count": 42,
      "outputs": [
        {
          "output_type": "display_data",
          "data": {
            "text/plain": [
              "<Figure size 900x900 with 1 Axes>"
            ],
            "image/png": "[encoded data removed]"
          },
          "metadata": {}
        }
      ]
    },
    {
      "cell_type": "markdown",
      "source": [
        "# Experiment Conclusion and Discussion\n",
        "\n",
        "General observations about this system:\n",
        "1. CHANGE - lines 57, 59, and 62 of the grazing simulation cell to make use of the metabolism parameter since that was a value we wanted to constatly change and measure sustainabilty\n",
        "\n",
        "2. OBSERVATION - w/ metabolism at 9, weight gain = metabolism, and weight loss = metabolism, steady state was at time step 34 w/ about 282 deer (q=0.35)\n",
        "\n",
        "3. OBSERVATION - w/ metabolism at 10, weight gain = metabolism, and weight loss = metabolism, steady state was at time step 35 w/ about 275 deer (q=0.35)\n",
        "\n",
        "4. OBSERVATION - w/ metabolism at 10, weight gain = metabolism, and weight loss = metabolism, steady state was at time step 30 w/ about 250 deer (q=0.3)\n",
        "\n",
        "The general results of this simplified deer grazing model tell us that the amount of deer and the amount of grass must be balanced to create a sustainable ecosystem. The regrowth rate of grass and deer metabolism speed also play an important role, but this is not as easily modifiable in the real world. However, it is a very simple way to display the self-regulating nature of grazing systems!\n",
        "\n",
        "If given more time, we would've liked to incorporate maybe social groups like herds and had those herds travel together, or maybe water cells which kept the deer at the same weight rather than losing/gaining weight. Maybe even the inclusion of predators such as lions or cheetas to kill the smallest or random deer."
      ],
      "metadata": {
        "id": "Dmw1ZnHvbcgN"
      }
    },
    {
      "cell_type": "markdown",
      "source": [
        "# Algorithm Analysis\n",
        "1. The introduce_deer method has a time complexity of O(n^2) because it loops through all the cells in the grid to create a list of available locations to place the deer, and then shuffles that list before selecting the first m items to create the deer. The step method has a time complexity of O(m\\*n) because it loops through all the deer and their cardinal neighbors to move the deer. This could result in up to a O(n\\*n), should the inputs result in deer occupying every cell (this is an edge case however, not the average case).\n",
        "\n",
        "This means that the model will continue to grow exponentially as the size of the CA increases. Thus, it's important to take note of how expensive running this simulation would be for longer CA experiments.\n",
        "\n",
        "2. Refer to code block below. Code appears to support exponential growth analysis.\n",
        "\n",
        "3. "
      ],
      "metadata": {
        "id": "FsR6cdk6PToz"
      }
    },
    {
      "cell_type": "code",
      "source": [
        "sim = Grazing_simulation(size=50, coverage=0.5, num_deer=10, regrowth_rate=0.25, max_weight=50, metabolism=3, regrowth_interval=5)\n",
        "times = sim.run_simulation(num_steps=100)\n",
        "print(f\"Parameters: size:50, coverage: 50%, n Deer: 10, regrowth: 25%, max deer weight: 50, metabolism: 3, regrowth interval: 5, steps: 100\")\n",
        "print(f\"Mean time per step: {sum(times)/len(times):.6f} seconds\")\n",
        "\n",
        "sim = Grazing_simulation(size=200, coverage=0.7, num_deer=10, regrowth_rate=0.25, max_weight=50, metabolism=3, regrowth_interval=5)\n",
        "times = sim.run_simulation(num_steps=100)\n",
        "print(f\"Parameters: size:200, coverage: 70%, n Deer: 10, regrowth: 25%, max deer weight: 50, metabolism: 3, regrowth interval: 5, steps: 100\")\n",
        "print(f\"Mean time per step: {sum(times)/len(times):.6f} seconds\")\n",
        "\n",
        "sim = Grazing_simulation(size=500, coverage=0.4, num_deer=300, regrowth_rate=0.25, max_weight=50, metabolism=10, regrowth_interval=5)\n",
        "times = sim.run_simulation(num_steps=100)\n",
        "print(f\"Parameters: size:500, coverage: 40%, n Deer: 300, regrowth: 25%, max deer weight: 50, metabolism: 3, regrowth interval: 5, steps: 100\")\n",
        "print(f\"Mean time per step: {sum(times)/len(times):.6f} seconds\")\n",
        "\n",
        "sim = Grazing_simulation(size=1000, coverage=0.4, num_deer=300, regrowth_rate=0.25, max_weight=50, metabolism=10, regrowth_interval=5)\n",
        "times = sim.run_simulation(num_steps=100)\n",
        "print(f\"Parameters: size: 1000, coverage:40%, n Deer: 300, regrowth: 25%, max deer weight: 50, metabolism: 3, regrowth interval: 5, steps: 100\")\n",
        "print(f\"Mean time per step: {sum(times)/len(times):.6f} seconds\")\n",
        "\n",
        "plt.clf() #hide deer plot"
      ],
      "metadata": {
        "colab": {
          "base_uri": "https://localhost:8080/",
          "height": 164
        },
        "id": "kChWTMEEo7qJ",
        "outputId": "d122bc89-fe95-44ed-a847-1c05488d6ec8"
      },
      "execution_count": 7,
      "outputs": [
        {
          "output_type": "stream",
          "name": "stdout",
          "text": [
            "Parameters: size:50, coverage: 50%, n Deer: 10, regrowth: 25%, max deer weight: 50, metabolism: 3, regrowth interval: 5, steps: 100\n",
            "Mean time per step: 0.006689 seconds\n",
            "Parameters: size:200, coverage: 70%, n Deer: 10, regrowth: 25%, max deer weight: 50, metabolism: 3, regrowth interval: 5, steps: 100\n",
            "Mean time per step: 0.008398 seconds\n",
            "Parameters: size:500, coverage: 40%, n Deer: 300, regrowth: 25%, max deer weight: 50, metabolism: 3, regrowth interval: 5, steps: 100\n",
            "Mean time per step: 0.261097 seconds\n",
            "Parameters: size: 1000, coverage:40%, n Deer: 300, regrowth: 25%, max deer weight: 50, metabolism: 3, regrowth interval: 5, steps: 100\n",
            "Mean time per step: 0.298697 seconds\n"
          ]
        },
        {
          "output_type": "display_data",
          "data": {
            "text/plain": [
              "<Figure size 640x480 with 0 Axes>"
            ]
          },
          "metadata": {}
        }
      ]
    }
  ]
}